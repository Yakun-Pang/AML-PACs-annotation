{
 "cells": [
  {
   "cell_type": "markdown",
   "metadata": {},
   "source": [
    "Date: April 2022 \n",
    "\n",
    "Goal: \n",
    "\n",
    "1.T cell subset and annotation"
   ]
  },
  {
   "cell_type": "markdown",
   "metadata": {},
   "source": [
    "# Load tools"
   ]
  },
  {
   "cell_type": "code",
   "execution_count": null,
   "metadata": {},
   "outputs": [],
   "source": [
    "import scanpy as sc\n",
    "import anndata as ad\n",
    "import matplotlib as mpl\n",
    "import matplotlib.pyplot as pl\n",
    "import seaborn as sns"
   ]
  },
  {
   "cell_type": "code",
   "execution_count": null,
   "metadata": {},
   "outputs": [],
   "source": [
    "import os\n",
    "import sys\n",
    "import pandas as pd\n",
    "import numpy as np\n"
   ]
  },
  {
   "cell_type": "code",
   "execution_count": null,
   "metadata": {},
   "outputs": [],
   "source": [
    "import muon as mu\n",
    "from muon import prot as pt"
   ]
  },
  {
   "cell_type": "code",
   "execution_count": null,
   "metadata": {},
   "outputs": [],
   "source": [
    "import gzip"
   ]
  },
  {
   "cell_type": "code",
   "execution_count": null,
   "metadata": {},
   "outputs": [],
   "source": [
    "#https://stackoverflow.com/questions/71106940/cannot-import-name-centered-from-scipy-signal-signaltools\n",
    "import scipy.signal.signaltools\n",
    "\n",
    "def _centered(arr, newsize):\n",
    "    # Return the center newsize portion of the array.\n",
    "    newsize = np.asarray(newsize)\n",
    "    currsize = np.array(arr.shape)\n",
    "    startind = (currsize - newsize) // 2\n",
    "    endind = startind + newsize\n",
    "    myslice = [slice(startind[k], endind[k]) for k in range(len(endind))]\n",
    "    return arr[tuple(myslice)]\n",
    "\n",
    "scipy.signal.signaltools._centered = _centered"
   ]
  },
  {
   "cell_type": "code",
   "execution_count": null,
   "metadata": {},
   "outputs": [],
   "source": [
    "from matplotlib.pyplot import imshow\n",
    "%matplotlib inline"
   ]
  },
  {
   "cell_type": "code",
   "execution_count": null,
   "metadata": {},
   "outputs": [],
   "source": [
    "sc.settings.verbosity = 3 # verbosity: errors (0), warnings (1), info (2), hints (3)\n",
    "sc.logging.print_header()\n",
    "sc.settings.set_figure_params(dpi= 80)"
   ]
  },
  {
   "cell_type": "markdown",
   "metadata": {},
   "source": [
    "# Define Functions"
   ]
  },
  {
   "cell_type": "code",
   "execution_count": null,
   "metadata": {},
   "outputs": [],
   "source": [
    "file_path='/oak/stanford/groups/cgawad/home/Cancer_Studies/SC_RNA_SEQ/ALSF_AML/scanpy/H5AD/'"
   ]
  },
  {
   "cell_type": "code",
   "execution_count": null,
   "metadata": {},
   "outputs": [],
   "source": [
    "Combo=sc.read_h5ad(file_path+\"ALSF_AML_Combo_3500_with_raw_count.h5ad\")"
   ]
  },
  {
   "cell_type": "code",
   "execution_count": null,
   "metadata": {},
   "outputs": [],
   "source": [
    "Combo.uns['log1p'][\"base\"] = None"
   ]
  },
  {
   "cell_type": "code",
   "execution_count": null,
   "metadata": {},
   "outputs": [],
   "source": [
    "mdata_prot=sc.read_h5ad(file_path +\"ALSF_AML_total_protein.h5ad\")"
   ]
  },
  {
   "cell_type": "code",
   "execution_count": null,
   "metadata": {},
   "outputs": [],
   "source": [
    "mdata_prot"
   ]
  },
  {
   "cell_type": "markdown",
   "metadata": {},
   "source": [
    "## T Cell\n",
    "  Built a new data set named TCell by selected \"Cell Type\". "
   ]
  },
  {
   "cell_type": "code",
   "execution_count": null,
   "metadata": {},
   "outputs": [],
   "source": [
    "sc.pl.umap(Combo, color=['Cell_Type'], wspace=0.6, legend_fontsize = 10,frameon=False,\n",
    "           #save=\"_Combo_cluster_Sample.png\"\n",
    "          ) "
   ]
  },
  {
   "cell_type": "code",
   "execution_count": null,
   "metadata": {},
   "outputs": [],
   "source": [
    "Tcell = Combo[Combo.obs['lineage'].isin(['AML-T','T',\n",
    "                                         'NK','AML-NK']),:]"
   ]
  },
  {
   "cell_type": "code",
   "execution_count": null,
   "metadata": {},
   "outputs": [],
   "source": [
    "sc.pl.highly_variable_genes(Tcell) "
   ]
  },
  {
   "cell_type": "code",
   "execution_count": null,
   "metadata": {},
   "outputs": [],
   "source": [
    "sc.tl.pca(Tcell, svd_solver='arpack',n_comps=50)"
   ]
  },
  {
   "cell_type": "code",
   "execution_count": null,
   "metadata": {},
   "outputs": [],
   "source": [
    "sc.pp.neighbors(Tcell, n_neighbors=100, n_pcs=50)"
   ]
  },
  {
   "cell_type": "code",
   "execution_count": null,
   "metadata": {},
   "outputs": [],
   "source": [
    "sc.tl.umap(Tcell,min_dist=0.5,spread=6)"
   ]
  },
  {
   "cell_type": "code",
   "execution_count": null,
   "metadata": {},
   "outputs": [],
   "source": [
    "sc.tl.leiden(Tcell, resolution=3\n",
    "            )"
   ]
  },
  {
   "cell_type": "code",
   "execution_count": null,
   "metadata": {
    "scrolled": true
   },
   "outputs": [],
   "source": [
    "\n",
    "sc.pl.umap(Tcell, color=['CD34','IL7R','CD7',# LYMPH progenitor\n",
    "                         'TRAC','KLRD1','KLRG1','FGFBP2','LYAR','GZMM','FCRL6',\n",
    "                         'CXCR3','SLC4A10','FOXP3',\n",
    "                         'CD3D','CD4','CD8A','CD8B','CCR7',# T cells\n",
    "                         'KLRB1','GNLY','GZMB','GZMA','GZMH','GZMK',\n",
    "                         'KLRF1',# NK cells\n",
    "                         'IFNG',#dysfunction T cells,\n",
    "                         'TNF','PRF1',\n",
    "                         'CD40','CD44','SELL','CD58','FAS','B3GAT1',\n",
    "                         'CX3CR1','PDCD1','HNF1A',\n",
    "                         'TCF7','LEF1',\n",
    "                         'LAG3','TIGIT','HAVCR2',\n",
    "                         'CTLA4','LAYN','ENTPD1','ITGAE',\n",
    "                         \n",
    "                                  \n",
    "                                 ],cmap='Reds',\n",
    "           save='_ALSF_AML_Lymph_lymph.Marker.Genes.png'\n",
    "          )"
   ]
  },
  {
   "cell_type": "code",
   "execution_count": null,
   "metadata": {},
   "outputs": [],
   "source": [
    "Tcell_leiden2manCT = {\n",
    "\n",
    "    '0': 'GZMB NK',\n",
    "  '1': 'Naïve CD8T',\n",
    "  '2': 'AML-Naïve CD4T',\n",
    "  '3': 'AML-Naïve CD8T',\n",
    "  '4': 'Activated CD4T',\n",
    "  '5': 'GZMK CD8T',\n",
    "  '6': 'Naïve CD4T',\n",
    "  '7': 'Naïve CD8T',\n",
    "  '8': 'Naïve CD4T',\n",
    "  '9': 'AML-GZMK CD8T',\n",
    "  '10': 'GZMB CD8T',\n",
    "  '11': 'AML-Activated CD4T',\n",
    "  '12': 'AML-GZMB CD8T',\n",
    "  '13': 'AML-NK',\n",
    "  '14': 'Naïve CD4T',\n",
    "  '15': 'GZMK NK',\n",
    "  '16': 'MAIT',\n",
    "  '17': 'GZMB NK',\n",
    "  '18': 'Effector memory CD8T',\n",
    "  '19': 'AML-MAIT',\n",
    "  '20': 'GZMB DNT',\n",
    "  '21': 'Naïve CD4T',\n",
    "  '22': 'Naïve CD4T',\n",
    "  '23': 'Naïve CD4T',\n",
    "  '24': 'Naïve CD4T',\n",
    "  '25': 'Naïve CD4T',\n",
    "  '26': 'Naïve CD4T',\n",
    "  '27': 'AML-Activated CD4T',\n",
    "  '28': 'Naïve CD4T',\n",
    "  '29': 'GZMB NK',\n",
    "  '30': 'Naïve CD4T',\n",
    "  '31': 'Naïve CD4T',\n",
    "  '32': 'Activated CD4T',\n",
    "  '33': 'Naïve CD4T',\n",
    "  '34': 'Naïve CD4T',\n",
    "  '35': 'Naïve CD4T',\n",
    "  '36': 'Naïve CD4T'\n",
    "}\n",
    "Tcell.obs['TCell'] = (\n",
    "    Tcell.obs['leiden']\n",
    "    .map(Tcell_leiden2manCT)\n",
    "    .astype('category')\n",
    ")"
   ]
  },
  {
   "cell_type": "code",
   "execution_count": null,
   "metadata": {},
   "outputs": [],
   "source": [
    "sc.pl.umap(Tcell, color=['Cell Type'], wspace = 0.5, \n",
    "       \n",
    "           frameon=False, save='_ALSF_AML_T_CELL_TYPE.png')"
   ]
  },
  {
   "cell_type": "code",
   "execution_count": null,
   "metadata": {},
   "outputs": [],
   "source": [
    "sc.pl.umap(Tcell, color=['SampleID'], wspace = 0.5, \n",
    "       \n",
    "           frameon=False,\n",
    "          save='_ALSF_AML_T_Sample.png')"
   ]
  },
  {
   "cell_type": "code",
   "execution_count": null,
   "metadata": {},
   "outputs": [],
   "source": [
    "HBM_Tcell = Tcell [Tcell .obs['batch'].isin(['0','1']),:]"
   ]
  },
  {
   "cell_type": "code",
   "execution_count": null,
   "metadata": {},
   "outputs": [],
   "source": [
    "Tcell.write(file_path + \"ALSF_AML_total_3500_Tcelll_rna.h5ad\")"
   ]
  },
  {
   "cell_type": "code",
   "execution_count": null,
   "metadata": {
    "scrolled": true
   },
   "outputs": [],
   "source": [
    "\n",
    "sc.pl.umap(HBM_Tcell, color=['CD127_pos', 'CD274_pos', 'CD3_pos',  \n",
    "                         'CD7_pos', 'CD49f_pos', 'CD25_pos', 'CD279_pos',\n",
    "                         'CD152_pos','CD366_pos','CD71_pos','CD45RA_pos', 'CD123_pos',\n",
    "                         'CD36_pos', 'CD133_pos','CD33_pos',  'CD32_pos', \n",
    "                         'CD90_pos', 'CD10_pos',  'CD235ab_pos','CD19_pos',\n",
    "                                  \n",
    "                                 ],cmap='Reds')"
   ]
  },
  {
   "cell_type": "code",
   "execution_count": null,
   "metadata": {
    "scrolled": true
   },
   "outputs": [],
   "source": [
    "sc.pl.umap(Tcell, color=['CD127_pos', 'CD274_pos', 'CD3_pos',  \n",
    "                         'CD7_pos', 'CD49f_pos', 'CD25_pos', 'CD279_pos',\n",
    "                         'CD152_pos','CD366_pos','CD71_pos','CD45RA_pos',\n",
    "                        \n",
    "                        'CD33_pos'\n",
    "                                  \n",
    "                                 ],cmap='Reds', ncols=6,\n",
    "        save='_ALSF_AML_lymphCombo_TCells.MarkerGenes_csf.png')"
   ]
  },
  {
   "cell_type": "code",
   "execution_count": null,
   "metadata": {},
   "outputs": [],
   "source": [
    "#T cell  1M/1ML blood "
   ]
  },
  {
   "cell_type": "code",
   "execution_count": null,
   "metadata": {},
   "outputs": [],
   "source": [
    "sc.pl.umap(Tcell, color=['TCell'], \n",
    "           save='ALSF_AML_Combo_T_Cells.png'\n",
    "          )"
   ]
  },
  {
   "cell_type": "code",
   "execution_count": null,
   "metadata": {},
   "outputs": [],
   "source": [
    "#keep AML and HSPC cells from leukemia samples and keep all cells from HBM\n",
    "AML=Combo[(Combo.obs[\"lineage\"].isin(['AML','AML-Mono','Myeloid_Pro',\n",
    "                                            '0_HSPC']))|(Combo.obs[\"SampleType\"].isin(['HealthyBM']))]\n",
    "\n",
    "#remove the cells from HBM but AML specific cell groups\n",
    "AML_2=AML[np.logical_not(AML.obs[\"lineage_Sample\"].isin(['AML','AML-B',\n",
    "                                                                    'AML-Ery',\n",
    "                                                                    'AML-Mono',\n",
    "                                                                    'AML-T',\n",
    "                                                                   #'B',\n",
    "                                                                   # 'Erythrocytes',\n",
    "                                                                   # 'Monocyte',\n",
    "                                                                  # 'NK',\n",
    "                                                                  # 'T',\n",
    "                                                                  # 'PlasmaB'\n",
    "                                                        ]))].copy()\n",
    "\n"
   ]
  },
  {
   "cell_type": "code",
   "execution_count": null,
   "metadata": {},
   "outputs": [],
   "source": [
    "EX_T_1=['ENTPD1','ITGAE','TNFRSF9','TNFRSF18']\n",
    "EX_T_2=['HAVCR2','PDCD1', 'LAG3']\n",
    "TF_1=[\"NR4A1\",\"TOX\",'TOX2']\n",
    "RL_list_1=['ANXA1', 'FAS', 'TNFSF12', 'TNFSF13B', 'TNFRSF1A', 'TNFSF13', 'CD99', 'HLA-G', \n",
    "           'CD1D', 'LGALS9', 'RNASET2', 'TBXAS1', 'TNFSF4', 'CXCL2', 'TNFSF9', 'TNFSF10', \n",
    "           'CTSG', 'LILRB2', 'OPRL1', 'TNFRSF14', 'TNFRSF1A', 'TNFRSF25', 'TNFRSF12A', 'LTBR',\n",
    "           'FAS', 'CSF1R', 'MERTK', 'TNFRSF10A', 'TNFRSF10B', \n",
    "           'TNFRSF10D', 'FZD2', 'ADORA2A', 'CCR1', 'TNFRSF6B', 'HAVCR2', \n",
    "           'CD40', 'ITGB1', 'TBXA2R', 'PTGER1', 'TNFRSF4', 'ITGA5']\n",
    "RL_list_2=['HLA-F', 'CD70', 'MICB', 'PTGDS', 'TNF', 'ICAM1', 'LTA', 'NT5E', 'TNFRSF1B',\n",
    "           'CD72', 'TNFSF8', 'IGF2', 'CCL5', 'SEMA4D', \n",
    "           'LILRB2', 'ADORA2B', 'TNF', 'ITGAL', 'TNFRSF1B', 'OXER1',\n",
    "           'CCR3', 'LILRB1', 'CCR5', 'GPR75', 'ADORA2A']\n",
    "TCell_anno=['CD3E','CD4','CD8A','CD8B',\n",
    "                                  'LRRN3','CCR7','SELL',#  Human naïve T cells \n",
    "                                  'CCL5','CCL4','NKG7','GZMK','GZMB','GNLY','KLRG1','PRF1','KLRB1','KLRD1',#Activated cytotoxic CD8+ T cells \n",
    "                                  'NCAM1','TNF','LTA','STAT4','ANXA1',#Th1\n",
    "                                  'GATA3','STAT6',#Th2\n",
    "                                  'RORC','STAT3',#Th17\n",
    "                                  'CD69','ITGAE','FAS',#Memory CD8+ T cells\n",
    "                                  'IL2RA','FOXP3','TNFRSF18','TNFRSF4',#Treg\n",
    "                                  'CXCR5','ICOS',#follicular B helper T cells\n",
    "                'SLC4A10'\n",
    "                           ]"
   ]
  },
  {
   "cell_type": "code",
   "execution_count": null,
   "metadata": {},
   "outputs": [],
   "source": [
    "sc.tl.dendrogram(AML_2, groupby='lineage_Sample')"
   ]
  },
  {
   "cell_type": "code",
   "execution_count": null,
   "metadata": {},
   "outputs": [],
   "source": [
    "sc.pl.dotplot(AML_2, RL_list_1, 'lineage_Sample', \n",
    "              dendrogram=True,cmap='bwr',\n",
    "             save='_Combo_Cell_Cell_interaction_with_overlap_normal_mye.png')"
   ]
  },
  {
   "cell_type": "code",
   "execution_count": null,
   "metadata": {},
   "outputs": [],
   "source": [
    "sc.pl.dotplot(Tcell, TCell_anno, 'TCell', \n",
    "              dendrogram=True,\n",
    "             save='_T_Cell_annotation_gene.png')"
   ]
  },
  {
   "cell_type": "code",
   "execution_count": null,
   "metadata": {},
   "outputs": [],
   "source": [
    "sc.pl.dotplot(Tcell, EX_T_2, 'TCell', dendrogram=True,cmap='bwr',\n",
    "              save='_tumour_T_Cell_dysfuction_gene_set2.png')"
   ]
  },
  {
   "cell_type": "code",
   "execution_count": null,
   "metadata": {},
   "outputs": [],
   "source": [
    "color_list=Tcell.uns['Cell_Type_colors']\n",
    "color_list"
   ]
  },
  {
   "cell_type": "code",
   "execution_count": null,
   "metadata": {},
   "outputs": [],
   "source": [
    "Cell_Type_List=pd.DataFrame(Tcell.obs['Cell_Type'])\n",
    "Cell_Type=Cell_Type_List.Cell_Type.unique()\n",
    "Cell_Type.categories.values"
   ]
  },
  {
   "cell_type": "code",
   "execution_count": null,
   "metadata": {},
   "outputs": [],
   "source": [
    "color_dict=dict(zip( Cell_Type.categories.values,Tcell.uns['Cell_Type_colors']))\n",
    "color_dict"
   ]
  },
  {
   "cell_type": "code",
   "execution_count": null,
   "metadata": {},
   "outputs": [],
   "source": [
    "sc.pl.umap(Tcell, color=['S100A10','FOXP3',\n",
    "  'PTGER4',\n",
    "  'ZNF331',\n",
    "  'VIM',\n",
    "  'CYBA',\n",
    "  'CD37',\n",
    "  'PKM',\n",
    "  'CD53',\n",
    "  'ARPC1B',\n",
    "  'RCSD1',\n",
    "  'LAPTM5',\n",
    "  'LINC01578',\n",
    "  'SCGB3A1',\n",
    "  'DOK2',\n",
    "  'CYTH4',\n",
    "                         \n",
    "                         'TIGIT','PDCD1', 'LAG3', 'IFNG'], cmap='Reds')"
   ]
  },
  {
   "cell_type": "code",
   "execution_count": null,
   "metadata": {},
   "outputs": [],
   "source": [
    "Tcellgene = scanpyMarkerGenes(Tcell, clusters='leiden', met='logreg',filename='AML_T_cells-logreg.csv')"
   ]
  },
  {
   "cell_type": "code",
   "execution_count": null,
   "metadata": {},
   "outputs": [],
   "source": [
    "markerGenesDict = {}\n",
    "for col in Tcellgene:\n",
    "    markerGenesDict[col] = list(Tcellgene[col].head(15))\n",
    "markerGenesDict"
   ]
  },
  {
   "cell_type": "code",
   "execution_count": null,
   "metadata": {},
   "outputs": [],
   "source": [
    "sc.tl.rank_genes_groups(Tcell, groupby='Cell_Type', method='wilcoxon')\n",
    "geneDF = pd.DataFrame(Tcell.uns['rank_genes_groups']['names'])\n",
    "geneDF.to_csv('ALSF_AML_LymphoRankedGenes_Cell_Type_wilcoxon.csv',sep=\",\",header=True,index_label=\"\")"
   ]
  },
  {
   "cell_type": "code",
   "execution_count": null,
   "metadata": {},
   "outputs": [],
   "source": [
    "markerGenesDict = {}\n",
    "for col in geneDF :\n",
    "    markerGenesDict[col] = list(geneDF[col].head(20))\n",
    "markerGenesDict"
   ]
  },
  {
   "cell_type": "code",
   "execution_count": null,
   "metadata": {},
   "outputs": [],
   "source": [
    "sc.tl.rank_genes_groups(Tcell, groupby='leiden', method='logreg')\n",
    "geneDF = pd.DataFrame(Tcell.uns['rank_genes_groups']['names'])\n",
    "geneDF.to_csv('ALSF_AML_LymphoRankedGenes_Cell_Type_logreg.csv',sep=\",\",header=True,index_label=\"\")"
   ]
  },
  {
   "cell_type": "code",
   "execution_count": null,
   "metadata": {},
   "outputs": [],
   "source": [
    "sc.tl.rank_genes_groups(Tcell, groupby='Cell_Type', method='logreg')\n",
    "geneDF = pd.DataFrame(Tcell.uns['rank_genes_groups']['names'])\n",
    "geneDF.to_csv('ALSF_AML_LymphoRankedGenes_logreg.csv',sep=\",\",header=True,index_label=\"\")"
   ]
  },
  {
   "cell_type": "code",
   "execution_count": null,
   "metadata": {},
   "outputs": [],
   "source": [
    "markerGenesDict = {}\n",
    "for col in geneDF :\n",
    "    markerGenesDict[col] = list(geneDF[col].head(7))\n",
    "markerGenesDict"
   ]
  },
  {
   "cell_type": "code",
   "execution_count": null,
   "metadata": {},
   "outputs": [],
   "source": [
    "sc.pl.umap(Tcell, color='Cell_Type', \n",
    "            legend_loc='on data', legend_fontsize = 8,title='Cell Type', save='_lymph.CellType.png') \n",
    "\n"
   ]
  },
  {
   "cell_type": "code",
   "execution_count": null,
   "metadata": {},
   "outputs": [],
   "source": [
    "sc.tl.leiden(Tcell, resolution=4)\n",
    "sc.pl.umap(Tcell, color=['leiden', 'SampleID'], wspace = 0.6,save='_ALSF_AML_Lymph.leiden.batch.png')"
   ]
  },
  {
   "cell_type": "code",
   "execution_count": null,
   "metadata": {},
   "outputs": [],
   "source": [
    "sc.pl.umap(Tcell, color=['CD3E','CD4','CD8A','CD8B',\n",
    "                                  'LRRN3','CCR7','SELL',#  Human naïve T cells \n",
    "                                  'CCL5','CCL4','NKG7','GZMK','GZMB','GNLY','KLRG1','PRF1','KLRB1','KLRD1',#Activated cytotoxic CD8+ T cells \n",
    "                                  'NCAM1','TNF','LTA','STAT4','ANXA1',#Th1\n",
    "                                  'GATA3','STAT6',#Th2\n",
    "                                  'RORC','STAT3',#Th17\n",
    "                                  'CD69','ITGAE','FAS',#Memory CD8+ T cells\n",
    "                                  'IL2RA','FOXP3','TNFRSF18','TNFRSF4',#Treg\n",
    "                                  'CXCR5','ICOS',#follicular B helper T cells\n",
    "                'SLC4A10'\n",
    "                                 ], cmap=\"Reds\",ncols=6,save='_ALSF_AML_lymphCombo_TCells.MarkerGenes.png')"
   ]
  },
  {
   "cell_type": "code",
   "execution_count": null,
   "metadata": {},
   "outputs": [],
   "source": [
    "sc.tl.rank_genes_groups(Tcell, groupby='Cell_Type', method='logreg')\n",
    "geneDF = pd.DataFrame(Tcell.uns['rank_genes_groups']['names'])\n",
    "geneDF.to_csv('ALSF_AML_LymphoRankedGenes_logreg.csv',sep=\",\",header=True,index_label=\"\")"
   ]
  },
  {
   "cell_type": "code",
   "execution_count": null,
   "metadata": {},
   "outputs": [],
   "source": [
    "markerGenesDict = {}\n",
    "for col in geneDF:\n",
    "    markerGenesDict[col] = list(geneDF[col].head(5))\n",
    "markerGenesDict"
   ]
  },
  {
   "cell_type": "code",
   "execution_count": null,
   "metadata": {},
   "outputs": [],
   "source": [
    "sc.tl.dendrogram(Tcell, groupby='Cell_Type')"
   ]
  },
  {
   "cell_type": "code",
   "execution_count": null,
   "metadata": {},
   "outputs": [],
   "source": [
    "sc.pl.rank_genes_groups_heatmap(Tcell, var_names=markerGenesDict,\n",
    "                                dendrogram=True,\n",
    "                                use_raw=False, swap_axes=False, \n",
    "                                vmin=-3, vmax=3, cmap='bwr', \n",
    "                               figsize=(12,10), show=True,show_gene_labels=True,\n",
    "                               save='Tcell_ranked_genes_Heatmap_logreg.png')"
   ]
  },
  {
   "cell_type": "code",
   "execution_count": null,
   "metadata": {},
   "outputs": [],
   "source": [
    "sc.tl.rank_genes_groups(Tcell, groupby='Cell_Type', method='wilcoxon')\n",
    "geneDF = pd.DataFrame(Tcell.uns['rank_genes_groups']['names'])\n",
    "geneDF.to_csv('ALSF_AML_LymphoRankedGenes_wilcoxon.csv',sep=\",\",header=True,index_label=\"\")"
   ]
  },
  {
   "cell_type": "code",
   "execution_count": null,
   "metadata": {},
   "outputs": [],
   "source": [
    "geneDF_Tcell= pd.DataFrame(Tcell.uns['rank_genes_groups']['names'])\n",
    "geneDF_Tcell_log2= pd.DataFrame(Tcell.uns['rank_genes_groups']['logfoldchanges'])\n",
    "geneDF_Tcell_padj= pd.DataFrame(Tcell.uns['rank_genes_groups']['pvals_adj'])"
   ]
  },
  {
   "cell_type": "code",
   "execution_count": null,
   "metadata": {},
   "outputs": [],
   "source": [
    "geneDF_Tcell"
   ]
  },
  {
   "cell_type": "code",
   "execution_count": null,
   "metadata": {},
   "outputs": [],
   "source": [
    "geneDF_Tcell.to_csv('Tcell_leu_stem_Rank_gene_wilcoxonn.csv')\n",
    "geneDF_Tcell_log2.to_csv('Tcell_leu_stem_Rank_gene_wilcoxonn_logFC.csv')\n",
    "geneDF_Tcell_padj.to_csv('Tcell_leu_stem_Rank_gene_wilcoxonn_padj.csv')"
   ]
  },
  {
   "cell_type": "code",
   "execution_count": null,
   "metadata": {},
   "outputs": [],
   "source": [
    "gene_ids = Tcell.raw.var.index.values\n",
    "clusters = Tcell.obs['Sample'].cat.categories\n",
    "obs = Tcell.raw[:,gene_ids].X.toarray()\n",
    "obs = pd.DataFrame(obs,columns=gene_ids,index=Tcell.obs['Sample'])\n",
    "obs_bool = obs.astype(bool)\n",
    "fraction_obs_Tcell = obs_bool.groupby(level=0).sum()/obs_bool.groupby(level=0).count()\n",
    "count_obs_Tcell = obs_bool.groupby(level=0).sum()"
   ]
  },
  {
   "cell_type": "code",
   "execution_count": null,
   "metadata": {},
   "outputs": [],
   "source": [
    "fraction_obs_Tcell\n",
    "fraction_obs_Tcell.to_csv('Combo_AML_Tcell_gene_by_Sample_fraction.csv')"
   ]
  },
  {
   "cell_type": "code",
   "execution_count": null,
   "metadata": {},
   "outputs": [],
   "source": [
    "Tcell_count=pd.DataFrame(Tcell.obs['Cell_Type'])\n",
    "Tcell_count_batch=pd.DataFrame(Tcell.obs['Sample'])\n",
    "Tcell_sum=Tcell_count_batch.join(Tcell_count)"
   ]
  },
  {
   "cell_type": "code",
   "execution_count": null,
   "metadata": {},
   "outputs": [],
   "source": [
    "Tcell_sum=Tcell_sum.groupby(['Sample','Cell_Type']).size().to_frame('Tcell_sum')"
   ]
  },
  {
   "cell_type": "code",
   "execution_count": null,
   "metadata": {},
   "outputs": [],
   "source": [
    "Tcell_sum.reset_index(inplace=True)\n",
    "data = Tcell_sum.pivot(index=['Sample'], # Columns that will not change\n",
    "columns='Cell_Type', # Column holding new column names/categories\n",
    "values='Tcell_sum') # Name of value column to spread\n",
    "\n",
    "data"
   ]
  },
  {
   "cell_type": "markdown",
   "metadata": {},
   "source": [
    "# Raw count metrics for T cells"
   ]
  },
  {
   "cell_type": "code",
   "execution_count": null,
   "metadata": {},
   "outputs": [],
   "source": [
    "adata=Combo[Combo.obs['lineage'].isin(['AML-T','T',\n",
    "                                         'NK','AML-NK']),:]"
   ]
  },
  {
   "cell_type": "code",
   "execution_count": null,
   "metadata": {},
   "outputs": [],
   "source": [
    "Count=pd.DataFrame(data=adata.layers['Raw_Counts'].toarray())"
   ]
  },
  {
   "cell_type": "code",
   "execution_count": null,
   "metadata": {},
   "outputs": [],
   "source": [
    "Count"
   ]
  },
  {
   "cell_type": "code",
   "execution_count": null,
   "metadata": {},
   "outputs": [],
   "source": [
    "Count.columns = [adata.var.index.tolist()]\n",
    "Count.index = [adata.obs.index.tolist()]\n"
   ]
  },
  {
   "cell_type": "code",
   "execution_count": null,
   "metadata": {},
   "outputs": [],
   "source": [
    "Count"
   ]
  },
  {
   "cell_type": "code",
   "execution_count": null,
   "metadata": {},
   "outputs": [],
   "source": [
    "Count.columns = Count.columns.get_level_values(0)"
   ]
  },
  {
   "cell_type": "code",
   "execution_count": null,
   "metadata": {},
   "outputs": [],
   "source": [
    "Count.index = Count.index.get_level_values(0)"
   ]
  },
  {
   "cell_type": "code",
   "execution_count": null,
   "metadata": {},
   "outputs": [],
   "source": [
    "anno_df=pd.DataFrame(Tcell.obs['Cell_Type'])"
   ]
  },
  {
   "cell_type": "code",
   "execution_count": null,
   "metadata": {},
   "outputs": [],
   "source": [
    "anno_df"
   ]
  },
  {
   "cell_type": "code",
   "execution_count": null,
   "metadata": {},
   "outputs": [],
   "source": [
    "df_final= anno_df.join(Count)"
   ]
  },
  {
   "cell_type": "code",
   "execution_count": null,
   "metadata": {},
   "outputs": [],
   "source": [
    "df_final"
   ]
  },
  {
   "cell_type": "code",
   "execution_count": null,
   "metadata": {},
   "outputs": [],
   "source": [
    "df=df_final.loc[:, df_final.nunique() > 3]"
   ]
  },
  {
   "cell_type": "code",
   "execution_count": null,
   "metadata": {},
   "outputs": [],
   "source": [
    "df"
   ]
  },
  {
   "cell_type": "code",
   "execution_count": null,
   "metadata": {},
   "outputs": [],
   "source": [
    "df=df.T"
   ]
  },
  {
   "cell_type": "code",
   "execution_count": null,
   "metadata": {},
   "outputs": [],
   "source": [
    "df.columns=df.iloc[0]\n"
   ]
  },
  {
   "cell_type": "code",
   "execution_count": null,
   "metadata": {},
   "outputs": [],
   "source": [
    "df=df.iloc[1:]"
   ]
  },
  {
   "cell_type": "code",
   "execution_count": null,
   "metadata": {},
   "outputs": [],
   "source": [
    "file_path='/oak/stanford/groups/cgawad/home/Cancer_Studies/SC_RNA_SEQ/ALSF_AML/scanpy/H5AD/'"
   ]
  },
  {
   "cell_type": "code",
   "execution_count": null,
   "metadata": {},
   "outputs": [],
   "source": [
    "df.to_csv(file_path+'ALSF_AML_T_Cell_Count_matrix.tsv',index=True,sep=\"\\t\")"
   ]
  },
  {
   "cell_type": "code",
   "execution_count": null,
   "metadata": {},
   "outputs": [],
   "source": [
    "Tcell.obs.to_csv(file_path+'ALSF_AML_T_Cell_Count_meta_matrix.tsv',index=True,sep=\"\\t\")"
   ]
  },
  {
   "cell_type": "code",
   "execution_count": null,
   "metadata": {},
   "outputs": [],
   "source": []
  },
  {
   "cell_type": "code",
   "execution_count": null,
   "metadata": {},
   "outputs": [],
   "source": [
    "df_anno=pd.DataFrame(Tcell.obs['TCell'])\n",
    "df_anno"
   ]
  },
  {
   "cell_type": "code",
   "execution_count": null,
   "metadata": {},
   "outputs": [],
   "source": [
    "df_2=pd.DataFrame(Combo.obs)\n",
    "df_2=Combo.obs.drop([\"TCell\"],axis=1)\n",
    "df_2"
   ]
  },
  {
   "cell_type": "code",
   "execution_count": null,
   "metadata": {},
   "outputs": [],
   "source": [
    "df=df_2.join(df_anno)\n",
    "df"
   ]
  },
  {
   "cell_type": "code",
   "execution_count": null,
   "metadata": {},
   "outputs": [],
   "source": [
    "Combo.obs=df"
   ]
  },
  {
   "cell_type": "code",
   "execution_count": null,
   "metadata": {},
   "outputs": [],
   "source": [
    "Combo.obs['TCell_anno'] = np.where(Combo.obs['lineage'].isin(['AML-T','T','AML-NK','NK']),\n",
    "                                      Combo.obs['TCell'],\n",
    "                                      Combo.obs['PAC_anno']\n",
    "                                     )"
   ]
  },
  {
   "cell_type": "code",
   "execution_count": null,
   "metadata": {},
   "outputs": [],
   "source": [
    "Combo.write(file_path + \"ALSF_AML_Combo_3500_with_raw_count.h5ad\")"
   ]
  }
 ],
 "metadata": {
  "kernelspec": {
   "display_name": "Python 3 (ipykernel)",
   "language": "python",
   "name": "python3"
  },
  "language_info": {
   "codemirror_mode": {
    "name": "ipython",
    "version": 3
   },
   "file_extension": ".py",
   "mimetype": "text/x-python",
   "name": "python",
   "nbconvert_exporter": "python",
   "pygments_lexer": "ipython3",
   "version": "3.8.18"
  },
  "toc": {
   "base_numbering": 1,
   "nav_menu": {},
   "number_sections": true,
   "sideBar": true,
   "skip_h1_title": false,
   "title_cell": "Table of Contents",
   "title_sidebar": "Contents",
   "toc_cell": false,
   "toc_position": {
    "height": "585px",
    "left": "500px",
    "top": "110px",
    "width": "228px"
   },
   "toc_section_display": true,
   "toc_window_display": true
  }
 },
 "nbformat": 4,
 "nbformat_minor": 4
}
