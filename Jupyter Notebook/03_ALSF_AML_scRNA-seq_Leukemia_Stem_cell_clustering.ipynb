{
 "cells": [
  {
   "cell_type": "markdown",
   "metadata": {},
   "source": [
    "\n",
    "\n",
    "Date: october 2022 \n",
    "\n",
    "Goal: \n",
    "For RNA data\n",
    "1.Finding marker genes\n",
    "2.Leukemia stem cell clustering\n",
    "3.Trajectory inference\n",
    "4.Gene matrix preparation for MCCF1 assay\n",
    "\n",
    "Introduction to scanpy: https://scanpy-tutorials.readthedocs.io/en/latest/pbmc3k.html"
   ]
  },
  {
   "cell_type": "markdown",
   "metadata": {},
   "source": [
    "# Load tools"
   ]
  },
  {
   "cell_type": "code",
   "execution_count": null,
   "metadata": {},
   "outputs": [],
   "source": [
    "import scanpy as sc\n",
    "import anndata as ad\n",
    "import matplotlib as mpl\n",
    "import matplotlib.pyplot as pl\n",
    "import seaborn as sns"
   ]
  },
  {
   "cell_type": "code",
   "execution_count": null,
   "metadata": {},
   "outputs": [],
   "source": [
    "import os\n",
    "import sys\n",
    "import pandas as pd\n",
    "import numpy as np"
   ]
  },
  {
   "cell_type": "code",
   "execution_count": null,
   "metadata": {},
   "outputs": [],
   "source": [
    "import gzip"
   ]
  },
  {
   "cell_type": "code",
   "execution_count": null,
   "metadata": {},
   "outputs": [],
   "source": [
    "#https://stackoverflow.com/questions/71106940/cannot-import-name-centered-from-scipy-signal-signaltools\n",
    "import scipy.signal.signaltools\n",
    "\n",
    "def _centered(arr, newsize):\n",
    "    # Return the center newsize portion of the array.\n",
    "    newsize = np.asarray(newsize)\n",
    "    currsize = np.array(arr.shape)\n",
    "    startind = (currsize - newsize) // 2\n",
    "    endind = startind + newsize\n",
    "    myslice = [slice(startind[k], endind[k]) for k in range(len(endind))]\n",
    "    return arr[tuple(myslice)]\n",
    "\n",
    "scipy.signal.signaltools._centered = _centered"
   ]
  },
  {
   "cell_type": "code",
   "execution_count": null,
   "metadata": {},
   "outputs": [],
   "source": [
    "from matplotlib.pyplot import imshow\n",
    "%matplotlib inline"
   ]
  },
  {
   "cell_type": "code",
   "execution_count": null,
   "metadata": {},
   "outputs": [],
   "source": [
    "sc.settings.verbosity = 3 # verbosity: errors (0), warnings (1), info (2), hints (3)\n",
    "sc.logging.print_header()\n",
    "sc.settings.set_figure_params(dpi= 80)"
   ]
  },
  {
   "cell_type": "markdown",
   "metadata": {},
   "source": [
    "# Define Functions"
   ]
  },
  {
   "cell_type": "code",
   "execution_count": null,
   "metadata": {},
   "outputs": [],
   "source": [
    "def scanpyMarkerGenes(adata, clusters, met, filename):\n",
    "    '''\n",
    "    \n",
    "    Inputs:\n",
    "    1) scanpy AnnData object\n",
    "    2) what clusters to compare (eg leiden, Cell Type)\n",
    "    3) met = method for gene ranking (options: 't-test', 'wilcoxon', 'logreg')\n",
    "    Docs on logreg: https://github.com/theislab/scanpy/issues/95, http://www.nxn.se/valent/2018/3/5/actionable-scrna-seq-clusters\n",
    "    4) filename (CSV) for writing out the genes per cluster\n",
    "    \n",
    "    Returns: a pd dataframe with genes ranked by cluster\n",
    "    \n",
    "    use_raw=False >> use the PROCESSED data to avoid getting genes that aren't in the final annData object\n",
    "    \n",
    "    '''\n",
    "    \n",
    "    sc.tl.rank_genes_groups(adata, clusters, method=met, use_raw=False, penalty='l2',n_genes=100) #use_raw default = True\n",
    "    # penalty: https://scikit-learn.org/stable/modules/generated/sklearn.linear_model.LogisticRegression.html#sklearn.linear_model.LogisticRegression\n",
    "    \n",
    "    #sc.pl.rank_genes_groups(adata, n_genes=25, sharey=False) # plot\n",
    "    \n",
    "    geneDF_all= pd.DataFrame(adata.uns['rank_genes_groups']['names'])\n",
    "    geneDF= pd.DataFrame(adata.uns['rank_genes_groups']['names'])\n",
    "    \n",
    "    #### create a new df with only nonredundant genes in each column ####\n",
    "    # get list of all values in df\n",
    "    allValues = []\n",
    "    for col in geneDF.columns: \n",
    "        for x in list(geneDF[col]):\n",
    "            allValues.append(x)\n",
    "\n",
    "    # create dictionary with cell types as keys and lists of nonredundant genes as values\n",
    "    nonDupeDict = {}\n",
    "    for col in geneDF.columns: # iterate thru columns and only add nondupe genes to non dupe dict\n",
    "        nondupeList = []\n",
    "        for gene in list(geneDF[col]):\n",
    "            if allValues.count(gene) == 1:\n",
    "                nondupeList.append(gene)\n",
    "        nonDupeDict[col] = nondupeList\n",
    "\n",
    "    # convert the non dupe dictionary to a new df where each column has unique genes \n",
    "    # NaN has to be used to unify the column lengths \n",
    "    nonDupeDF = pd.DataFrame(dict([ (k,pd.Series(v)) for k,v in nonDupeDict.items() ]))\n",
    "    geneDF = nonDupeDF\n",
    "    \n",
    "    \n",
    "    geneDF_all.to_csv(\"geneDF_ALl_logreg.csv\",sep=',',header=True,index_label='')\n",
    "    \n",
    "    geneDF.to_csv(filename,sep=',',header=True,index_label='')\n",
    "    \n",
    "    return(geneDF)"
   ]
  },
  {
   "cell_type": "code",
   "execution_count": null,
   "metadata": {},
   "outputs": [],
   "source": [
    "file_path='/oak/stanford/groups/cgawad/home/Cancer_Studies/SC_RNA_SEQ/ALSF_AML/scanpy/H5AD/'"
   ]
  },
  {
   "cell_type": "code",
   "execution_count": null,
   "metadata": {},
   "outputs": [],
   "source": [
    "Combo=sc.read_h5ad(file_path +\"ALSF_AML_Combo_3500_with_raw_count.h5ad\")"
   ]
  },
  {
   "cell_type": "code",
   "execution_count": null,
   "metadata": {},
   "outputs": [],
   "source": [
    "HBM=sc.read_h5ad(file_path +\"ALSF_total_HBM.h5ad\")"
   ]
  },
  {
   "cell_type": "code",
   "execution_count": null,
   "metadata": {},
   "outputs": [],
   "source": [
    "HBM.uns['log1p'][\"base\"] = None"
   ]
  },
  {
   "cell_type": "code",
   "execution_count": null,
   "metadata": {},
   "outputs": [],
   "source": [
    "#Combo_new.obs=Combo.obs"
   ]
  },
  {
   "cell_type": "markdown",
   "metadata": {},
   "source": [
    "# Leukemia stem cell clustering"
   ]
  },
  {
   "cell_type": "code",
   "execution_count": null,
   "metadata": {},
   "outputs": [],
   "source": [
    "#get cluster and lineage information \n",
    "leiden=pd.DataFrame(Combo.obs['leiden'])\n",
    "cluster=pd.DataFrame(Combo.obs['Cell_Type'])\n",
    "lineage=pd.DataFrame(Combo.obs['lineage'])"
   ]
  },
  {
   "cell_type": "code",
   "execution_count": null,
   "metadata": {},
   "outputs": [],
   "source": [
    "cluster_df=leiden.join(cluster, how='outer').sort_values(by=['leiden'])\n",
    "lineage_df=leiden.join(lineage, how='outer').sort_values(by=['leiden'])"
   ]
  },
  {
   "cell_type": "code",
   "execution_count": null,
   "metadata": {},
   "outputs": [],
   "source": [
    "cluster_df.set_index('leiden').T.to_dict('index')"
   ]
  },
  {
   "cell_type": "code",
   "execution_count": null,
   "metadata": {},
   "outputs": [],
   "source": [
    "leiden_lis=pd.DataFrame(Combo.obs['leiden'])['leiden'].unique().tolist()\n",
    "leiden_lis.sort()\n"
   ]
  },
  {
   "cell_type": "code",
   "execution_count": null,
   "metadata": {},
   "outputs": [],
   "source": [
    "for group in leiden_lis:\n",
    "    \n",
    "    sc.pl.umap(Combo, color=['leiden'],groups=group,frameon=False)"
   ]
  },
  {
   "cell_type": "code",
   "execution_count": null,
   "metadata": {},
   "outputs": [],
   "source": [
    "AML_leiden2manCT = {\n",
    "   \n",
    "  '0': 'AML',\n",
    "  '1': 'AML',\n",
    "  '2': 'Naïve_CD4T',\n",
    "  '3': 'CD14_Monocyte',\n",
    "  '4': 'AML',\n",
    "  '5': 'AML-PCNA',\n",
    "  '6': 'AML',\n",
    "  '7': 'AML',\n",
    "  '8': 'AML',\n",
    "  '9': 'CD14_Monocyte',\n",
    "  '10': 'AML',\n",
    "  '11': 'AML',\n",
    "  '12': 'AML',\n",
    "  '13': 'AML',\n",
    "  '14': 'AML',\n",
    "  '15': 'AML',\n",
    "  '16': 'AML',\n",
    "  '17': 'AML',\n",
    "  '18': 'AML',\n",
    "  '19': 'AML',\n",
    "  '20': 'AML',\n",
    "  '21': 'AML-CD1C',\n",
    "  '22': 'AML',\n",
    "  '23': 'AML',\n",
    "  '24': 'AML',\n",
    "  '25': 'AML',\n",
    "  '26': 'AML-MKI67',\n",
    "  '27': 'Naïve_CD8T',\n",
    "  '28': 'AML',\n",
    "  '29': 'AML',\n",
    "  '30': 'NK',\n",
    "  '31': 'AML',\n",
    "  '32': 'AML',\n",
    "  '33': 'AML',\n",
    "  '34': 'AML',\n",
    "  '35': 'CD20+B',\n",
    "  '36': 'AML-Ery',\n",
    "  '37': 'AML',\n",
    "  '38': 'AML',\n",
    "  '39': 'AML',\n",
    "  '40': 'AML',\n",
    "  '41': 'AML-CTL',\n",
    "  '42': 'AML',\n",
    "  '43': 'AML-CD4T',\n",
    "  '44': 'AML-MKI67',\n",
    "  '45': 'AML',\n",
    "  '46': 'AML',\n",
    "  '47': 'AML',\n",
    "  '48': 'CTL',\n",
    "  '49': 'Myeloid_Pro',\n",
    "  '50': 'AML',\n",
    "  '51': 'Erythrocytes',\n",
    "  '52': 'AML',\n",
    "  '53': 'AML',\n",
    "  '54': 'AML-PCNA',\n",
    "  '55': 'AML',\n",
    "  '56': 'AML',\n",
    "  '57': 'AML',\n",
    "  '58': 'AML',\n",
    "  '59': 'AML',\n",
    "  '60': 'AML-Ery',\n",
    "  '61': 'AML-CD14',\n",
    "  '62': 'CTL',\n",
    "  '63': 'Activated_CD4T',\n",
    "  '64': 'ProB',\n",
    "  '65': 'AML',\n",
    "  '66': 'AML',\n",
    "  '67': 'PreB',\n",
    "  '68': 'AML',\n",
    "  '69': 'AML',\n",
    "  '70': 'AML',\n",
    "  '71': 'AML',\n",
    "  '72': '0_HSPC',\n",
    "  '73': 'mDC',\n",
    "  '74': 'AML',\n",
    "  '75': 'AML',\n",
    "  '76': 'CD16_Monocyte',\n",
    "  '77': 'AML-Ery',\n",
    "  '78': 'AML-Naïve_CD8T',\n",
    "  '79': 'AML-Ery',\n",
    "  '80': 'AML-B',\n",
    "  '81': 'AML',\n",
    "  '82': 'AML-Ery',\n",
    "  '83': 'AML',\n",
    "  '84': 'AML',\n",
    "  '85': 'PlasmaB',\n",
    "  '86': 'pDC',\n",
    "  '87': 'AML',\n",
    "  '88': 'AML-NK',\n",
    "  '89': 'AML-Ery',\n",
    "  '90': 'AML',\n",
    "  '91': 'AML-CD4T',\n",
    "  '92': 'AML-Ery',\n",
    "  '93': 'AML-B',\n",
    "  '94': 'AML',\n",
    "  '95': 'CD34+ProB',\n",
    "  '96': 'AML',\n",
    "  '97': 'AML',\n",
    "  '98': 'Macrophage',\n",
    "  '99': 'AML-CD4T',\n",
    "  '100': 'AML',\n",
    "  '101': 'AML'\n",
    "}\n",
    "\n",
    "Combo.obs['Cell_Type'] = (\n",
    "   Combo.obs['leiden']\n",
    "    .map(AML_leiden2manCT)\n",
    "    .astype('category')\n",
    ")"
   ]
  },
  {
   "cell_type": "code",
   "execution_count": null,
   "metadata": {},
   "outputs": [],
   "source": [
    "sc.pl.umap(Combo, color=['Cell_Type'], \n",
    "           wspace = 0.2, frameon=False, cmap=\"Reds\",\n",
    "          )\n"
   ]
  },
  {
   "cell_type": "code",
   "execution_count": null,
   "metadata": {},
   "outputs": [],
   "source": [
    "sc.pl.umap(HBM, color=['Cell_Type'], \n",
    "           wspace = 0.2, frameon=False, cmap=\"Reds\",\n",
    "          )\n"
   ]
  },
  {
   "cell_type": "code",
   "execution_count": null,
   "metadata": {},
   "outputs": [],
   "source": [
    "HBMgene = scanpyMarkerGenes(Combo, clusters='lineage', met='logreg',filename='Combo_lineage-logreg.csv')"
   ]
  },
  {
   "cell_type": "code",
   "execution_count": null,
   "metadata": {},
   "outputs": [],
   "source": [
    "markerGenesDict = {}\n",
    "for col in HBMgene:\n",
    "    markerGenesDict[col] = list(HBMgene[col].head(5))\n",
    "markerGenesDict"
   ]
  },
  {
   "cell_type": "code",
   "execution_count": null,
   "metadata": {},
   "outputs": [],
   "source": [
    "markerGenesDict={ \n",
    "    'AML': ['SPESP1', 'CFD', 'PHLDB2', 'EPCAM', 'HDC'],\n",
    "    'HSC': ['CRHBP', 'AVP', 'HLF', 'RBPMS', 'ROBO4'],\n",
    "    'Erythrocytes': ['ITGA2B', 'PRKAR2B', 'KLF1', 'CNRIP1', 'GATA1'],\n",
    "    'Monocyte': ['S100A8', 'S100A9', 'FCN1', 'FTL', 'STAB1'],\n",
    "    'Myeloid Pro': ['PRTN3', 'ELANE', 'AZU1', 'CTSG', 'PLPPR3'],\n",
    "    'PlasmaB': ['IGHA1', 'TXNDC5', 'IGLC2', 'IGHG3', 'TNFRSF17'],\n",
    "    'B': ['CD79A', 'MS4A1', 'CD79B', 'VPREB1', 'DNTT'],\n",
    "    'NK': ['KLRF1', 'SH2D1B', 'IL2RB', 'MYOM2', 'CLIC3'],\n",
    "    'T': ['IL32', 'CD3D', 'TRDV2', 'CD3E', 'CD3G']\n",
    "}"
   ]
  },
  {
   "cell_type": "code",
   "execution_count": null,
   "metadata": {},
   "outputs": [],
   "source": [
    "sc.tl.dendrogram(Combo, groupby='Cell_Type')"
   ]
  },
  {
   "cell_type": "code",
   "execution_count": null,
   "metadata": {},
   "outputs": [],
   "source": [
    "sc.pl.dotplot(Combo,markerGenesDict, groupby='lineage',dendrogram=True,\n",
    "             save='_Combo_lineage_Marker_genes.pdf')"
   ]
  },
  {
   "cell_type": "code",
   "execution_count": null,
   "metadata": {},
   "outputs": [],
   "source": [
    "AML=Combo[(Combo.obs[\"lineage\"].isin(['AML','AML-Mono','Myeloid_Pro',\n",
    "                                            '0_HSPC']))]"
   ]
  },
  {
   "cell_type": "code",
   "execution_count": null,
   "metadata": {},
   "outputs": [],
   "source": [
    "sc.tl.leiden(AML, resolution=2,key_added='leiden_AML')"
   ]
  },
  {
   "cell_type": "code",
   "execution_count": null,
   "metadata": {},
   "outputs": [],
   "source": [
    "leiden_lis=pd.DataFrame(AML.obs['leiden_AML'])['leiden_AML'].unique().tolist()"
   ]
  },
  {
   "cell_type": "code",
   "execution_count": null,
   "metadata": {},
   "outputs": [],
   "source": [
    "leiden_lis.sort()"
   ]
  },
  {
   "cell_type": "code",
   "execution_count": null,
   "metadata": {},
   "outputs": [],
   "source": [
    "for group in leiden_lis:\n",
    "    \n",
    "    sc.pl.umap(AML, color=['leiden_AML'],groups=group,frameon=False)"
   ]
  },
  {
   "cell_type": "code",
   "execution_count": null,
   "metadata": {},
   "outputs": [],
   "source": [
    "AML_leiden2manCT = {\n",
    "   \n",
    "  '0': 'AML_1',\n",
    "  '1': 'AML_2',\n",
    "  '2': 'AML_3',\n",
    "  '3': 'AML_4',\n",
    "  '4': 'AML_5',\n",
    "  '5': 'AML_6',\n",
    "  '6': 'AML_7',\n",
    "  '7': 'AML_8',\n",
    "  '8': 'AML_9',\n",
    "  '9': 'AML_10',\n",
    "  '10':'AML_11',\n",
    "  '11': 'AML_12',\n",
    "  '12': 'AML_13',\n",
    "  '13': 'AML_14',\n",
    "  '14': 'AML_15',\n",
    "  '15': 'AML_16',\n",
    "  '16': 'AML_17',\n",
    "  '17': 'AML_18',\n",
    "  '18':'AML_19',\n",
    "  '19': 'AML_20',\n",
    "  '20': 'AML_21',\n",
    "  '21': 'AML_22',\n",
    "  '22': 'AML_23',\n",
    "  '23': 'AML_24',\n",
    "  '24': 'Myeloid_Pro',\n",
    "  '25': 'AML_25',\n",
    "  '26': 'AML_26',\n",
    "  '27': '0_HSPC',\n",
    "  '28': 'AML_27'\n",
    "\n",
    "\n",
    "\n",
    "\n",
    "\n",
    "\n",
    "}\n",
    "\n",
    "AML.obs['AML_subtype'] = (\n",
    "   AML.obs['leiden_AML']\n",
    "    .map(AML_leiden2manCT)\n",
    "    .astype('category')\n",
    ")"
   ]
  },
  {
   "cell_type": "code",
   "execution_count": null,
   "metadata": {},
   "outputs": [],
   "source": [
    "#label the prognosis associated clusters \n",
    "AML_leiden2manCT = {\n",
    "   \n",
    "\n",
    "  '1': 'PPAC_1',\n",
    "  '2': 'FPAC_1',\n",
    "  '3': 'FPAC_2',\n",
    "  '6':'FPAC_3',\n",
    "  '10':'PPAC_2',\n",
    "  '13': 'PPAC_3',\n",
    "  '22': 'PPAC_4',\n",
    "  '24': 'Myeloid_Pro',\n",
    "  '27': '0_HSPC',\n",
    "  '28': 'FPAC_4',\n",
    " \n",
    "\n",
    "\n",
    "\n",
    "\n",
    "}\n",
    "\n",
    "AML.obs['PAC_subtype'] = (\n",
    "   AML.obs['leiden_AML']\n",
    "    .map(AML_leiden2manCT)\n",
    "    .astype('category')\n",
    ")"
   ]
  },
  {
   "cell_type": "code",
   "execution_count": null,
   "metadata": {},
   "outputs": [],
   "source": [
    "sc.pl.umap(AML, color=['CD34','PAC_subtype'], frameon=False)"
   ]
  },
  {
   "cell_type": "code",
   "execution_count": null,
   "metadata": {},
   "outputs": [],
   "source": [
    "AML.obs['AML_subtype']\n",
    "df_anno=pd.DataFrame(AML.obs['AML_subtype'])"
   ]
  },
  {
   "cell_type": "code",
   "execution_count": null,
   "metadata": {},
   "outputs": [],
   "source": [
    "df_2=pd.DataFrame(Combo.obs)\n",
    "df_2=Combo.obs.drop([\"AML_subtype\"],axis=1)"
   ]
  },
  {
   "cell_type": "code",
   "execution_count": null,
   "metadata": {},
   "outputs": [],
   "source": [
    "df=df_2.join(df_anno)"
   ]
  },
  {
   "cell_type": "code",
   "execution_count": null,
   "metadata": {},
   "outputs": [],
   "source": [
    "Combo.obs=df"
   ]
  },
  {
   "cell_type": "code",
   "execution_count": null,
   "metadata": {},
   "outputs": [],
   "source": [
    "Combo.obs['AML_anno'] = np.where(Combo.obs['AML_subtype'].isnull(),\n",
    "                                      Combo.obs['Cell_Type'],\n",
    "                                      Combo.obs['AML_subtype']\n",
    "                                     )"
   ]
  },
  {
   "cell_type": "code",
   "execution_count": null,
   "metadata": {},
   "outputs": [],
   "source": [
    "Combo.obs['PAC_anno'] = np.where(Combo.obs['PAC_subtype'].isnull(),\n",
    "                                      Combo.obs['Cell_Type'],\n",
    "                                      Combo.obs['PAC_subtype']\n",
    "                                     )"
   ]
  },
  {
   "cell_type": "code",
   "execution_count": null,
   "metadata": {},
   "outputs": [],
   "source": [
    "Combo_new.obs['PAC_anno'] = np.where(Combo_new.obs['batch'].isin(['0','1']),\n",
    "                                      Combo_new.obs['Cell_Type'],\n",
    "                                      Combo_new.obs['PAC_anno']\n",
    "                                     )"
   ]
  },
  {
   "cell_type": "code",
   "execution_count": null,
   "metadata": {},
   "outputs": [],
   "source": [
    "Combo_plot.obs['Prognosis-Associated Clusters']=Combo_plot.obs['PAC_subtype']"
   ]
  },
  {
   "cell_type": "code",
   "execution_count": null,
   "metadata": {},
   "outputs": [],
   "source": [
    "sc.pl.umap(Combo, color=['Prognosis-Associated Clusters'], frameon=False,\n",
    "          save='_AML_PAC_Subtype.pdf')"
   ]
  },
  {
   "cell_type": "markdown",
   "metadata": {},
   "source": [
    "Combo.obs['AML_anno'] = np.where(Combo.obs['AML_subtype'].isnull(),\n",
    "                                      Combo.obs['LSC_Cluster'],\n",
    "                                      Combo.obs['AML_subtype']\n",
    "                                     )"
   ]
  },
  {
   "cell_type": "code",
   "execution_count": null,
   "metadata": {},
   "outputs": [],
   "source": [
    "sc.pl.umap(Combo, color=['AML_subtype'], frameon=False,\n",
    "         # save='_AML_anno_CD34.pdf'\n",
    "          )"
   ]
  },
  {
   "cell_type": "code",
   "execution_count": null,
   "metadata": {},
   "outputs": [],
   "source": [
    "Combo.obs['Cell Type']=Combo.obs['Cell_Type']"
   ]
  },
  {
   "cell_type": "code",
   "execution_count": null,
   "metadata": {},
   "outputs": [],
   "source": [
    "HBM=Combo[np.logical_not(Combo.obs[\"lineage\"].isin(['AML',\n",
    "                                                    'AML-B',\n",
    "                                             'AML-Ery',\n",
    "                                             'AML-Mono',\n",
    "                                              'AML-T',\n",
    "                                              'AML-NK'\n",
    "                                             ]))]\n"
   ]
  },
  {
   "cell_type": "code",
   "execution_count": null,
   "metadata": {},
   "outputs": [],
   "source": [
    "#keep AML and HSPC cells from leukemia samples and keep all cells from HBM\n",
    "AML=Combo[(Combo.obs[\"lineage\"].isin(['AML','AML-Mono','Myeloid_Pro','AML-Ery',\n",
    "                                            '0_HSPC']))|(Combo.obs[\"SampleType\"].isin(['HealthyBM']))]\n",
    "\n",
    "#remove the cells from HBM but AML specific cell groups\n",
    "AML_2=AML[np.logical_not(AML.obs[\"lineage_Sample\"].isin(['AML','AML-B',\n",
    "                                                                    'AML-Ery',\n",
    "                                                                    'AML-Mono',\n",
    "                                                                    'AML-T',\n",
    "                                                                   #'B',\n",
    "                                                                   # 'Erythrocytes',\n",
    "                                                                   # 'Monocyte',\n",
    "                                                                  # 'NK',\n",
    "                                                                  # 'T',\n",
    "                                                                  # 'PlasmaB'\n",
    "                                                        ]))]\n",
    "\n"
   ]
  },
  {
   "cell_type": "code",
   "execution_count": null,
   "metadata": {},
   "outputs": [],
   "source": [
    "AML_3=AML_2[(AML_2.obs[\"PAC_anno\"].isin(['0_HSPC',\n",
    "                                         'Myeloid_Pro',\n",
    "'FPAC_1','FPAC_2','FPAC_3','FPAC_4',\n",
    "'PPAC_1','PPAC_2','PPAC_3', 'PPAC_4',\n",
    "    ]))]"
   ]
  },
  {
   "cell_type": "code",
   "execution_count": null,
   "metadata": {},
   "outputs": [],
   "source": [
    "sc.tl.rank_genes_groups(AML_3, 'PAC_anno',method='logreg')"
   ]
  },
  {
   "cell_type": "code",
   "execution_count": null,
   "metadata": {},
   "outputs": [],
   "source": [
    "LSCGenes= pd.DataFrame(AML_3.uns['rank_genes_groups']['names'])\n",
    "LSCGenes_Score= pd.DataFrame(AML_3.uns['rank_genes_groups']['scores'])\n"
   ]
  },
  {
   "cell_type": "code",
   "execution_count": null,
   "metadata": {},
   "outputs": [],
   "source": [
    "LSCGenes_Score"
   ]
  },
  {
   "cell_type": "code",
   "execution_count": null,
   "metadata": {},
   "outputs": [],
   "source": [
    "LSCGenes.to_csv('AML_PACs_PreRank_gene_logreg.csv')\n",
    "LSCGenes_Score.to_csv('AML_PACs_PreRank_gene_logreg_Score.csv')"
   ]
  },
  {
   "cell_type": "code",
   "execution_count": null,
   "metadata": {},
   "outputs": [],
   "source": [
    "LSCGenes"
   ]
  },
  {
   "cell_type": "code",
   "execution_count": null,
   "metadata": {},
   "outputs": [],
   "source": [
    "markerGenesDict = {}\n",
    "for col in LSCGenes:\n",
    "    markerGenesDict[col] = list(LSCGenes[col].head(5))\n",
    "markerGenesDict"
   ]
  },
  {
   "cell_type": "code",
   "execution_count": null,
   "metadata": {},
   "outputs": [],
   "source": [
    "sc.tl.dendrogram(AML_3, groupby='PAC_anno')"
   ]
  },
  {
   "cell_type": "code",
   "execution_count": null,
   "metadata": {},
   "outputs": [],
   "source": [
    "import matplotlib.pyplot as plt\n",
    "plt.rcParams.update({'font.size': 20})"
   ]
  },
  {
   "cell_type": "code",
   "execution_count": null,
   "metadata": {},
   "outputs": [],
   "source": [
    "sc.pl.rank_genes_groups_heatmap(AML_3, var_names=markerGenesDict,dendrogram=True,\n",
    "                                use_raw=False, swap_axes=False, \n",
    "                                vmin=-3, vmax=3, cmap='bwr', \n",
    "                               figsize=(30,30), show=True,show_gene_labels=True,\n",
    "                               save='_ALSF_AML_LSC_Heatmap_.png')"
   ]
  },
  {
   "cell_type": "code",
   "execution_count": null,
   "metadata": {},
   "outputs": [],
   "source": [
    "sc.tl.rank_genes_groups(AML_2, 'PAC_anno', method='wilcoxon')"
   ]
  },
  {
   "cell_type": "code",
   "execution_count": null,
   "metadata": {},
   "outputs": [],
   "source": [
    "geneDF_AML= pd.DataFrame(AML_2.uns['rank_genes_groups']['names'])\n",
    "geneDF_AML_log2= pd.DataFrame(AML_2.uns['rank_genes_groups']['logfoldchanges'])\n",
    "geneDF_AML_padj= pd.DataFrame(AML_2.uns['rank_genes_groups']['pvals_adj'])"
   ]
  },
  {
   "cell_type": "code",
   "execution_count": null,
   "metadata": {},
   "outputs": [],
   "source": [
    "geneDF_AML.to_csv('AML_PAC_Rank_gene_wilcoxon.csv')\n",
    "geneDF_AML_log2.to_csv('AML_PAC_Rank_gene_wilcoxon_logFC.csv')\n",
    "geneDF_AML_padj.to_csv('AML_PAC_Rank_gene_wilcoxon_padj.csv')"
   ]
  },
  {
   "cell_type": "code",
   "execution_count": null,
   "metadata": {},
   "outputs": [],
   "source": [
    "Combo.write(file_path + \"ALSF_AML_Combo_3500_with_raw_count.h5ad\")"
   ]
  },
  {
   "cell_type": "code",
   "execution_count": null,
   "metadata": {},
   "outputs": [],
   "source": [
    "AML_2.write(file_path + \"ALSF_AML_leukemia_NormalHSPC_rna.h5ad\")"
   ]
  },
  {
   "cell_type": "code",
   "execution_count": null,
   "metadata": {},
   "outputs": [],
   "source": [
    "AML_3.write(file_path + \"ALSF_AML_PAC_enriched_rna.h5ad\")"
   ]
  },
  {
   "cell_type": "markdown",
   "metadata": {},
   "source": [
    "# Export data matrix for seurat"
   ]
  },
  {
   "cell_type": "code",
   "execution_count": null,
   "metadata": {},
   "outputs": [],
   "source": [
    "from scipy import io"
   ]
  },
  {
   "cell_type": "code",
   "execution_count": null,
   "metadata": {},
   "outputs": [],
   "source": [
    "def adata_to_seurat (adata, folder_name):\n",
    "    with open (file_path+folder_name+'/barcodes.tsv','w') as f:\n",
    "        for item in adata.obs_names:\n",
    "            f.write(item +'\\n')\n",
    "        \n",
    "    with open (file_path+folder_name+'/features.tsv','w') as f:\n",
    "         for item in ['\\t'.join([x,x,'Gene Expression'])for x in adata.var_names]:\n",
    "                 f.write(item +'\\n')  \n",
    "    io.mmwrite(file_path+folder_name+'/matrix',adata.layers['Raw_Counts'].T)\n",
    "    \n",
    "    adata.obs.to_csv(file_path+folder_name+'/metadata.csv')"
   ]
  },
  {
   "cell_type": "code",
   "execution_count": null,
   "metadata": {},
   "outputs": [],
   "source": [
    "adata_to_seurat(AML_2, 'matrix_seurat')"
   ]
  },
  {
   "cell_type": "markdown",
   "metadata": {},
   "source": [
    "# Trajectory inference with PAGA"
   ]
  },
  {
   "cell_type": "code",
   "execution_count": null,
   "metadata": {},
   "outputs": [],
   "source": [
    "sc.tl.louvain(Combo, resolution=1.0)"
   ]
  },
  {
   "cell_type": "code",
   "execution_count": null,
   "metadata": {},
   "outputs": [],
   "source": [
    "sc.tl.paga(Combo, groups='louvain')"
   ]
  },
  {
   "cell_type": "code",
   "execution_count": null,
   "metadata": {},
   "outputs": [],
   "source": [
    "sc.pl.paga(Combo, color=['louvain', 'AVP', 'CD34'])"
   ]
  },
  {
   "cell_type": "code",
   "execution_count": null,
   "metadata": {},
   "outputs": [],
   "source": [
    "Combo.obs['louvain'].cat.categories"
   ]
  },
  {
   "cell_type": "code",
   "execution_count": null,
   "metadata": {},
   "outputs": [],
   "source": [
    "Combo.obs['louvain_anno'] = Combo.obs['louvain']"
   ]
  },
  {
   "cell_type": "code",
   "execution_count": null,
   "metadata": {},
   "outputs": [],
   "source": [
    "Combo.obs['louvain_anno'].cat.categories = ['0', '1', '2', '3', '4', '5', '6', '7/HSPC', '8', '9', '10/Ery', '11', '12',\n",
    "       '13', '14', '15', '16', '17', '18', '19','20']"
   ]
  },
  {
   "cell_type": "code",
   "execution_count": null,
   "metadata": {},
   "outputs": [],
   "source": [
    "sc.tl.paga(Combo, groups='louvain_anno')"
   ]
  },
  {
   "cell_type": "code",
   "execution_count": null,
   "metadata": {},
   "outputs": [],
   "source": [
    "sc.pl.paga(Combo, threshold=0.03, show=False)"
   ]
  },
  {
   "cell_type": "code",
   "execution_count": null,
   "metadata": {},
   "outputs": [],
   "source": [
    "Combo.uns['iroot'] = np.flatnonzero(Combo.obs['louvain_anno']  == '7/HSPC')[0]"
   ]
  },
  {
   "cell_type": "code",
   "execution_count": null,
   "metadata": {},
   "outputs": [],
   "source": [
    "sc.tl.dpt(Combo)"
   ]
  },
  {
   "cell_type": "code",
   "execution_count": null,
   "metadata": {},
   "outputs": [],
   "source": [
    "Combo.write(file_path + \"ALSF_AML_Combo_3500_with_raw_count.h5ad\")"
   ]
  },
  {
   "cell_type": "markdown",
   "metadata": {},
   "source": [
    "# Trajectory inference with palantir"
   ]
  },
  {
   "cell_type": "code",
   "execution_count": null,
   "metadata": {},
   "outputs": [],
   "source": [
    "import scanpy.external as sce\n",
    "import palantir"
   ]
  },
  {
   "cell_type": "code",
   "execution_count": null,
   "metadata": {},
   "outputs": [],
   "source": [
    "sce.tl.palantir(Combo, n_components = 25, knn = 50, impute_data = True, \n",
    "                use_adjacency_matrix = True)"
   ]
  },
  {
   "cell_type": "code",
   "execution_count": null,
   "metadata": {},
   "outputs": [],
   "source": [
    "cell = ['AAGCCGCAGGTGATTA-1-0']\n",
    "umap = pd.DataFrame(Combo.obsm['X_umap'][:,0:2], index=Combo.obs_names, columns=['x', 'y'])\n",
    "\n",
    "pl.scatter(umap[\"x\"], umap[\"y\"], s=5, color=\"lightgrey\")\n",
    "pl.scatter(umap.loc[cell, \"x\"], umap.loc[cell, \"y\"], s=30)"
   ]
  },
  {
   "cell_type": "code",
   "execution_count": null,
   "metadata": {},
   "outputs": [],
   "source": [
    "start = 'AAGCCGCAGGTGATTA-1-0'"
   ]
  },
  {
   "cell_type": "code",
   "execution_count": null,
   "metadata": {},
   "outputs": [],
   "source": [
    "pr_res = sce.tl.palantir_results(Combo, knn = 50, early_cell = start)"
   ]
  },
  {
   "cell_type": "code",
   "execution_count": null,
   "metadata": {},
   "outputs": [],
   "source": [
    "Combo.obs['palantir_pseudotime'] = pr_res.pseudotime\n",
    "Combo.obs['palantir_entropy'] = pr_res.entropy\n",
    "pr_res = pr_res.branch_probs"
   ]
  },
  {
   "cell_type": "code",
   "execution_count": null,
   "metadata": {},
   "outputs": [],
   "source": [
    "Combo"
   ]
  },
  {
   "cell_type": "code",
   "execution_count": null,
   "metadata": {},
   "outputs": [],
   "source": [
    "sc.pl.umap(Combo, color=['dpt_pseudotime','palantir_pseudotime', 'palantir_entropy'],\n",
    "           legend_fontsize = 10,cmap='bwr',save='_Combo_palantir_pseudotime_entropy.png')"
   ]
  },
  {
   "cell_type": "code",
   "execution_count": null,
   "metadata": {},
   "outputs": [],
   "source": [
    "Combo.write(file_path + \"ALSF_AML_Combo_3500_with_raw_count.h5ad\")"
   ]
  },
  {
   "cell_type": "markdown",
   "metadata": {},
   "source": [
    "# Gene Matrix input preparation for MCCF1 asssay"
   ]
  },
  {
   "cell_type": "code",
   "execution_count": null,
   "metadata": {},
   "outputs": [],
   "source": [
    "Combo=Combo[np.logical_not(Combo.obs[\"lineage_Sample\"].isin(['AML','AML-B',\n",
    "                                                                    'AML-Ery',\n",
    "                                                                    'AML-Mono',\n",
    "                                                                    'AML-T',\n",
    "                                                                   #'B',\n",
    "                                                                   # 'Erythrocytes',\n",
    "                                                                   # 'Monocyte',\n",
    "                                                                  # 'NK',\n",
    "                                                                  # 'T',\n",
    "                                                                  # 'PlasmaB'\n",
    "                                                        ]))].copy()\n"
   ]
  },
  {
   "cell_type": "code",
   "execution_count": null,
   "metadata": {},
   "outputs": [],
   "source": [
    "Obs_name='PAC_anno'\n",
    "group_name='Sample'"
   ]
  },
  {
   "cell_type": "code",
   "execution_count": null,
   "metadata": {},
   "outputs": [],
   "source": [
    "Cell_count=pd.DataFrame(Combo.obs[Obs_name])\n",
    "Cell_count_batch=pd.DataFrame(Combo.obs[group_name])\n",
    "Cell_sum=Cell_count_batch.join(Cell_count)"
   ]
  },
  {
   "cell_type": "code",
   "execution_count": null,
   "metadata": {},
   "outputs": [],
   "source": [
    "Cell_sum=Cell_sum.groupby([group_name,Obs_name]).size().to_frame('Cell_sum')"
   ]
  },
  {
   "cell_type": "code",
   "execution_count": null,
   "metadata": {},
   "outputs": [],
   "source": [
    "Cell_sum"
   ]
  },
  {
   "cell_type": "code",
   "execution_count": null,
   "metadata": {},
   "outputs": [],
   "source": [
    "Cell_sum.reset_index(inplace=True)\n",
    "data = Cell_sum.pivot(index=[group_name], # Columns that will not change\n",
    "columns=Obs_name, # Column holding new column names/categories\n",
    "values='Cell_sum') # Name of value column to spread\n",
    "\n",
    "data"
   ]
  },
  {
   "cell_type": "code",
   "execution_count": null,
   "metadata": {},
   "outputs": [],
   "source": [
    "Total=Cell_sum.groupby([group_name]).sum()"
   ]
  },
  {
   "cell_type": "code",
   "execution_count": null,
   "metadata": {},
   "outputs": [],
   "source": [
    "data=data.join(Total)\n",
    "data.to_csv('AML_scRNA_Cell_summary__%s'% Obs_name+ \"_by_\"+group_name+\".csv\")\n",
    "data"
   ]
  },
  {
   "cell_type": "code",
   "execution_count": null,
   "metadata": {},
   "outputs": [],
   "source": [
    "adata=Combo\n",
    "name=\"PAC_anno\""
   ]
  },
  {
   "cell_type": "code",
   "execution_count": null,
   "metadata": {},
   "outputs": [],
   "source": [
    "gene_ids = adata.raw.var.index.values\n",
    "clusters = adata.obs['PAC_anno'].cat.categories\n",
    "obs = adata.raw[:,gene_ids].X.toarray()\n",
    "obs = pd.DataFrame(obs,columns=gene_ids,index=adata.obs['PAC_anno'])\n",
    "obs_bool = obs.astype(bool)\n",
    "fraction_obs_adata = obs_bool.groupby(level=0).sum()/obs_bool.groupby(level=0).count()\n",
    "count_obs_adata = obs_bool.groupby(level=0).sum()"
   ]
  },
  {
   "cell_type": "code",
   "execution_count": null,
   "metadata": {},
   "outputs": [],
   "source": [
    "data=fraction_obs_adata.T.loc[(fraction_obs_adata.T['0_HSPC']<0.05)]\n",
    "data"
   ]
  },
  {
   "cell_type": "code",
   "execution_count": null,
   "metadata": {},
   "outputs": [],
   "source": [
    "data=data.loc[(data['AML']<0.01)]"
   ]
  },
  {
   "cell_type": "code",
   "execution_count": null,
   "metadata": {},
   "outputs": [],
   "source": [
    "data"
   ]
  },
  {
   "cell_type": "code",
   "execution_count": null,
   "metadata": {},
   "outputs": [],
   "source": [
    "color=['ARTN', 'FCGR1A', 'BGLAP', 'FCGR2A', 'IL5RA',\n",
    "                         'CD96', 'CD180', 'THSD7A', 'SERPINA1', 'NRG4', \n",
    "                         'MSLN', 'ITGAX', 'CES1', 'SIGLEC12', 'OSCAR', \n",
    "                         'LILRA5', 'JAG1', 'LAMA5', 'GGT5', 'IL13RA1']"
   ]
  },
  {
   "cell_type": "code",
   "execution_count": null,
   "metadata": {},
   "outputs": [],
   "source": [
    "data.loc[\"OSCAR\"]"
   ]
  },
  {
   "cell_type": "code",
   "execution_count": null,
   "metadata": {},
   "outputs": [],
   "source": [
    "data=fraction_obs_adata.T\n",
    "data=data.loc[(data['AML-CTL']>0.1)|(data['CTL']>0.1)|(data['AML-CD4T']>0.1)|\n",
    "             (data['AML-NK']>0.1)|(data['AML-Naïve_CD8T']>0.1)|\n",
    "             (data['Activated_CD4T']>0.1)| (data['NK']>0.1)|(data['Naïve_CD8T']>0.1)|\n",
    "             (data['Naïve_CD4T']>0.1)]\n",
    "\n",
    "data.to_csv(file_path+\"ALSF_RNA-seq_genelist_T_lineage.csv\")"
   ]
  },
  {
   "cell_type": "code",
   "execution_count": null,
   "metadata": {},
   "outputs": [],
   "source": [
    "HSPC_gene=data.index.to_list()"
   ]
  },
  {
   "cell_type": "code",
   "execution_count": null,
   "metadata": {},
   "outputs": [],
   "source": [
    "data=fraction_obs_adata.T.loc[(fraction_obs_adata.T['0_HSPC']>0.1)]"
   ]
  },
  {
   "cell_type": "code",
   "execution_count": null,
   "metadata": {},
   "outputs": [],
   "source": [
    "data=data.loc[(data['PPAC_1']>0.1)|(data['PPAC_2']>0.1)|(data['PPAC_3']>0.1)|\n",
    "             (data['PPAC_4']>0.1)|(data['FPAC_1']>0.1)|\n",
    "             (data['FPAC_2']>0.1)|(data['FPAC_3']>0.1)|(data['FPAC_4']>0.1)]"
   ]
  },
  {
   "cell_type": "code",
   "execution_count": null,
   "metadata": {},
   "outputs": [],
   "source": [
    "data"
   ]
  },
  {
   "cell_type": "code",
   "execution_count": null,
   "metadata": {},
   "outputs": [],
   "source": [
    "max_row_indexes=pd.DataFrame(data.max(axis=1))\n",
    "max_row_indexes=max_row_indexes[(max_row_indexes.iloc[:,0]> 0.1)]\n",
    "max_row_indexes"
   ]
  },
  {
   "cell_type": "code",
   "execution_count": null,
   "metadata": {},
   "outputs": [],
   "source": [
    "Lineage_list=max_row_indexes.index.to_list()"
   ]
  },
  {
   "cell_type": "code",
   "execution_count": null,
   "metadata": {},
   "outputs": [],
   "source": [
    "data=fraction_obs_adata.T.loc[(fraction_obs_adata.T['AML']>0.2)]"
   ]
  },
  {
   "cell_type": "code",
   "execution_count": null,
   "metadata": {},
   "outputs": [],
   "source": [
    "AML_gene=data.index.to_list()\n",
    "AML_gene"
   ]
  },
  {
   "cell_type": "code",
   "execution_count": null,
   "metadata": {},
   "outputs": [],
   "source": [
    "fraction_obs_adata.loc[:, (fraction_obs_adata != 0).any(axis=0)]"
   ]
  },
  {
   "cell_type": "code",
   "execution_count": null,
   "metadata": {},
   "outputs": [],
   "source": [
    "fraction_obs_adata.loc[:, (fraction_obs_adata != 0).any(axis=0)]"
   ]
  },
  {
   "cell_type": "code",
   "execution_count": null,
   "metadata": {},
   "outputs": [],
   "source": [
    "fraction_obs_adata.to_csv(file_path +'%s_gene_fraction.csv'%name)"
   ]
  },
  {
   "cell_type": "code",
   "execution_count": null,
   "metadata": {},
   "outputs": [],
   "source": [
    "#remove duplicate\n",
    "test_list = list(max_row_indexes.index)"
   ]
  },
  {
   "cell_type": "code",
   "execution_count": null,
   "metadata": {},
   "outputs": [],
   "source": [
    " %pprint"
   ]
  },
  {
   "cell_type": "code",
   "execution_count": null,
   "metadata": {},
   "outputs": [],
   "source": [
    "len(test_list)"
   ]
  },
  {
   "cell_type": "code",
   "execution_count": null,
   "metadata": {},
   "outputs": [],
   "source": [
    "df = pd.DataFrame(test_list)\n",
    "print(df)"
   ]
  },
  {
   "cell_type": "code",
   "execution_count": null,
   "metadata": {},
   "outputs": [],
   "source": [
    "data=fraction_obs_adata.T\n",
    "data=data.loc[(data['AML-B']>0.1)|(data['CD20+B']>0.1)|(data['ProB']>0.1)|\n",
    "             (data['PreB']>0.1)|(data['PlasmaB']>0.1)|\n",
    "             (data['CD34+ProB']>0.1)]\n",
    "\n",
    "data.to_csv(file_path+\"ALSF_RNA-seq_genelist_B_lineage.csv\")"
   ]
  },
  {
   "cell_type": "code",
   "execution_count": null,
   "metadata": {},
   "outputs": [],
   "source": [
    "data.to_csv(file_path+\"ALSF_RNA-seq_HSPC_shared_with_PACs_0.1.csv\")"
   ]
  },
  {
   "cell_type": "code",
   "execution_count": null,
   "metadata": {},
   "outputs": [],
   "source": [
    "Sub_Gene=Combo[:,test_list].copy()"
   ]
  },
  {
   "cell_type": "code",
   "execution_count": null,
   "metadata": {},
   "outputs": [],
   "source": [
    "expr=pd.DataFrame(data=Sub_Gene.X)\n",
    "expr.columns = [Sub_Gene.var_names]\n",
    "expr.index = [Sub_Gene.obs_names]"
   ]
  },
  {
   "cell_type": "code",
   "execution_count": null,
   "metadata": {},
   "outputs": [],
   "source": [
    "expr"
   ]
  },
  {
   "cell_type": "code",
   "execution_count": null,
   "metadata": {},
   "outputs": [],
   "source": [
    "expr.to_csv(file_path+\"ALSF_RNA-seq_expr_HSPC_0.05_other_0.1.csv\")"
   ]
  },
  {
   "cell_type": "code",
   "execution_count": null,
   "metadata": {},
   "outputs": [],
   "source": [
    "Combo.obs.to_csv(file_path+\"ALSF_RNA-seq_Combo_obs.csv\")"
   ]
  },
  {
   "cell_type": "code",
   "execution_count": null,
   "metadata": {},
   "outputs": [],
   "source": [
    "with plt.rc_context({\"figure.figsize\": (8, 4), \"figure.dpi\": (300)}):\n",
    "    sc.pl.dotplot(AML_4, LSC_CSF,groupby='Sample', \n",
    "                 dendrogram=True, \n",
    "                 #swap_axes=True,\n",
    "                 save='_Combo_AML_Cell_marker_LSC_CSF_by_Sample.png')"
   ]
  },
  {
   "cell_type": "code",
   "execution_count": null,
   "metadata": {},
   "outputs": [],
   "source": [
    "with plt.rc_context({\"figure.figsize\": (8, 4), \"figure.dpi\": (300)}):\n",
    "    sc.pl.dotplot(Combo, LSC_CSF,groupby='lineage', \n",
    "                 dendrogram=True, \n",
    "                 #swap_axes=True,\n",
    "                 save='_Combo_AML_Cell_marker_LSC_CSF_by_lineage.png')"
   ]
  },
  {
   "cell_type": "markdown",
   "metadata": {},
   "source": [
    "# LSC count matrix"
   ]
  },
  {
   "cell_type": "code",
   "execution_count": null,
   "metadata": {},
   "outputs": [],
   "source": [
    "Combo"
   ]
  },
  {
   "cell_type": "code",
   "execution_count": null,
   "metadata": {},
   "outputs": [],
   "source": [
    "adata=Combo[(Combo.obs[\"lineage\"].isin(['AML','AML-Mono','Myeloid_Pro',\n",
    "                                            '0_HSPC']))]"
   ]
  },
  {
   "cell_type": "code",
   "execution_count": null,
   "metadata": {},
   "outputs": [],
   "source": [
    "adata"
   ]
  },
  {
   "cell_type": "code",
   "execution_count": null,
   "metadata": {},
   "outputs": [],
   "source": [
    "DownSample = sc.pp.subsample(adata, n_obs = 50000,random_state=0, copy=True)"
   ]
  },
  {
   "cell_type": "code",
   "execution_count": null,
   "metadata": {},
   "outputs": [],
   "source": [
    "#DownSample = adata"
   ]
  },
  {
   "cell_type": "code",
   "execution_count": null,
   "metadata": {},
   "outputs": [],
   "source": [
    "Count=pd.DataFrame(data=DownSample.layers['Raw_Counts'].toarray())"
   ]
  },
  {
   "cell_type": "code",
   "execution_count": null,
   "metadata": {},
   "outputs": [],
   "source": [
    "Count.columns = [adata.var.index.tolist()]\n",
    "Count.index = [DownSample.obs.index.tolist()]\n",
    "Count"
   ]
  },
  {
   "cell_type": "code",
   "execution_count": null,
   "metadata": {},
   "outputs": [],
   "source": [
    "Count.index = Count.index.get_level_values(0)\n",
    "Count.columns = Count.columns.get_level_values(0)"
   ]
  },
  {
   "cell_type": "code",
   "execution_count": null,
   "metadata": {},
   "outputs": [],
   "source": [
    "Count_f=Count.loc[:, Count.nunique() >10]"
   ]
  },
  {
   "cell_type": "code",
   "execution_count": null,
   "metadata": {},
   "outputs": [],
   "source": [
    "Count_f"
   ]
  },
  {
   "cell_type": "code",
   "execution_count": null,
   "metadata": {},
   "outputs": [],
   "source": [
    "anno_df=pd.DataFrame(DownSample.obs['AML_anno'])\n",
    "anno_df"
   ]
  },
  {
   "cell_type": "code",
   "execution_count": null,
   "metadata": {},
   "outputs": [],
   "source": [
    "df_final= pd.merge(anno_df, Count_f,\n",
    "                   left_index=True, right_index=True)"
   ]
  },
  {
   "cell_type": "code",
   "execution_count": null,
   "metadata": {},
   "outputs": [],
   "source": [
    "df=df_final.T"
   ]
  },
  {
   "cell_type": "code",
   "execution_count": null,
   "metadata": {},
   "outputs": [],
   "source": [
    "df.columns=df.iloc[0]"
   ]
  },
  {
   "cell_type": "code",
   "execution_count": null,
   "metadata": {},
   "outputs": [],
   "source": [
    "df=df.iloc[1:]"
   ]
  },
  {
   "cell_type": "code",
   "execution_count": null,
   "metadata": {},
   "outputs": [],
   "source": [
    "df"
   ]
  },
  {
   "cell_type": "code",
   "execution_count": null,
   "metadata": {},
   "outputs": [],
   "source": [
    "Count_T=Count.T\n"
   ]
  },
  {
   "cell_type": "code",
   "execution_count": null,
   "metadata": {},
   "outputs": [],
   "source": [
    "Count_T"
   ]
  },
  {
   "cell_type": "code",
   "execution_count": null,
   "metadata": {},
   "outputs": [],
   "source": [
    "df.to_csv(file_path+'ALSF_AML_subtype_Count_matrix.tsv',index=True,sep='\\t')"
   ]
  },
  {
   "cell_type": "code",
   "execution_count": null,
   "metadata": {},
   "outputs": [],
   "source": [
    "Count_T.to_csv(file_path+'SQUID_scRNA_Reference_Count_matrix_1000.tsv',index=True,sep='\\t')"
   ]
  },
  {
   "cell_type": "code",
   "execution_count": null,
   "metadata": {},
   "outputs": [],
   "source": [
    "obs_df=pd.DataFrame(DownSample.obs.reset_index())"
   ]
  },
  {
   "cell_type": "code",
   "execution_count": null,
   "metadata": {},
   "outputs": [],
   "source": [
    "obs_df"
   ]
  },
  {
   "cell_type": "code",
   "execution_count": null,
   "metadata": {},
   "outputs": [],
   "source": [
    "obs_df.to_csv(file_path+'SQUID_scRNA_Reference_Count_matrix_1000_meta.tsv',index=True,sep='\\t')"
   ]
  },
  {
   "cell_type": "code",
   "execution_count": null,
   "metadata": {},
   "outputs": [],
   "source": []
  }
 ],
 "metadata": {
  "kernelspec": {
   "display_name": "Python 3 (ipykernel)",
   "language": "python",
   "name": "python3"
  },
  "language_info": {
   "codemirror_mode": {
    "name": "ipython",
    "version": 3
   },
   "file_extension": ".py",
   "mimetype": "text/x-python",
   "name": "python",
   "nbconvert_exporter": "python",
   "pygments_lexer": "ipython3",
   "version": "3.8.18"
  },
  "toc": {
   "base_numbering": 1,
   "nav_menu": {},
   "number_sections": true,
   "sideBar": true,
   "skip_h1_title": false,
   "title_cell": "Table of Contents",
   "title_sidebar": "Contents",
   "toc_cell": false,
   "toc_position": {
    "height": "585px",
    "left": "500px",
    "top": "110px",
    "width": "228px"
   },
   "toc_section_display": true,
   "toc_window_display": true
  }
 },
 "nbformat": 4,
 "nbformat_minor": 4
}
