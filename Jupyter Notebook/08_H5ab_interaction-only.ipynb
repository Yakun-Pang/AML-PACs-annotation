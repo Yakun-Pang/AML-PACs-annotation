{
 "cells": [
  {
   "cell_type": "markdown",
   "metadata": {},
   "source": [
    "This script is for cell cell interaction metrics generation"
   ]
  },
  {
   "cell_type": "code",
   "execution_count": null,
   "metadata": {},
   "outputs": [],
   "source": [
    "import scanpy as sc\n",
    "import matplotlib as mpl\n",
    "import matplotlib.pyplot as plt"
   ]
  },
  {
   "cell_type": "code",
   "execution_count": null,
   "metadata": {},
   "outputs": [],
   "source": [
    "import os\n",
    "import sys\n",
    "import pandas as pd\n",
    "import numpy as np"
   ]
  },
  {
   "cell_type": "code",
   "execution_count": null,
   "metadata": {},
   "outputs": [],
   "source": [
    "import gzip\n",
    "import seaborn as sns \n",
    "import sklearn"
   ]
  },
  {
   "cell_type": "code",
   "execution_count": null,
   "metadata": {},
   "outputs": [],
   "source": [
    "import squidpy as sq"
   ]
  },
  {
   "cell_type": "code",
   "execution_count": null,
   "metadata": {},
   "outputs": [],
   "source": [
    "import time"
   ]
  },
  {
   "cell_type": "code",
   "execution_count": null,
   "metadata": {},
   "outputs": [],
   "source": [
    "from matplotlib.pyplot import imshow\n",
    "%matplotlib inline"
   ]
  },
  {
   "cell_type": "code",
   "execution_count": null,
   "metadata": {},
   "outputs": [],
   "source": [
    "import warnings\n",
    "warnings.filterwarnings('ignore')"
   ]
  },
  {
   "cell_type": "code",
   "execution_count": null,
   "metadata": {},
   "outputs": [],
   "source": [
    "import  scipy.signal.signaltools\n",
    "\n",
    "def _centered(arr, newsize):\n",
    "    # Return the center newsize portion of the array.\n",
    "    newsize = np.asarray(newsize)\n",
    "    currsize = np.array(arr.shape)\n",
    "    startind = (currsize - newsize) // 2\n",
    "    endind = startind + newsize\n",
    "    myslice = [slice(startind[k], endind[k]) for k in range(len(endind))]\n",
    "    return arr[tuple(myslice)]\n",
    "\n",
    "scipy.signal.signaltools._centered = _centered"
   ]
  },
  {
   "cell_type": "code",
   "execution_count": null,
   "metadata": {},
   "outputs": [],
   "source": [
    "sc.settings.verbosity = 3             # verbosity: errors (0), warnings (1), info (2), hints (3)\n",
    "sc.logging.print_versions()\n",
    "sc.settings.set_figure_params(dpi= 80)"
   ]
  },
  {
   "cell_type": "markdown",
   "metadata": {},
   "source": [
    "# load annotated h5ad file"
   ]
  },
  {
   "cell_type": "code",
   "execution_count": null,
   "metadata": {},
   "outputs": [],
   "source": [
    "file_path='/oak/stanford/groups/cgawad/home/Cancer_Studies/SC_RNA_SEQ/ALSF_AML/scanpy/H5AD/'"
   ]
  },
  {
   "cell_type": "code",
   "execution_count": null,
   "metadata": {},
   "outputs": [],
   "source": [
    "Combo=sc.read_h5ad(file_path+ \"ALSF_AML_Combo_3500_with_raw_count.h5ad\")"
   ]
  },
  {
   "cell_type": "markdown",
   "metadata": {},
   "source": [
    "# Receptor -ligand analysis"
   ]
  },
  {
   "cell_type": "code",
   "execution_count": null,
   "metadata": {},
   "outputs": [],
   "source": [
    "file_path='/oak/stanford/groups/cgawad/home/Cancer_Studies/SC_RNA_SEQ/ALSF_AML/scanpy/Cell_interaction/'"
   ]
  },
  {
   "cell_type": "code",
   "execution_count": null,
   "metadata": {},
   "outputs": [],
   "source": [
    "#remove noise from normal BM samples\n",
    "adata=Combo[np.logical_not(Combo.obs[\"lineage_Sample\"].isin(['AML',\n",
    "                                                             #'AML-B','AML-Ery','AML-Mono','AML-T','AML-NK'\n",
    "                                                            ]))]"
   ]
  },
  {
   "cell_type": "code",
   "execution_count": null,
   "metadata": {},
   "outputs": [],
   "source": [
    "HBM_sample=['0_HealthyBM1','0_HealthyBM2']"
   ]
  },
  {
   "cell_type": "code",
   "execution_count": null,
   "metadata": {},
   "outputs": [],
   "source": [
    "AML_sample=['AML335','AML647', 'AML882', 'AML948','AML1355',\n",
    "            'AML3082', 'AML3121', 'AML3210',  'AML3371', 'AML3492', \n",
    "            'AML4000', 'AML4010', 'AML4035','AML4062', 'AML4068','AML4090',\n",
    "            'AML4102', 'AML4116', 'AML4127', 'AML4192', 'AML4226', \n",
    "            'AML4232', 'AML4239', 'AML4264', 'AML4271', 'AML4304', 'AML4363'\n",
    "            ]"
   ]
  },
  {
   "cell_type": "code",
   "execution_count": null,
   "metadata": {},
   "outputs": [],
   "source": [
    "for AML in AML_sample:\n",
    "    print(AML)\n",
    "    AML_Sq =adata[adata.obs['SampleID'].isin([AML]),:]\n",
    "    res = sq.gr.ligrec(\n",
    "    AML_Sq,\n",
    "    n_perms=2000,\n",
    "    cluster_key=\"PAC_anno\",\n",
    "    complex_policy='min',\n",
    "    copy=True,\n",
    "    use_raw=False,\n",
    "    threshold=0.005,\n",
    "    n_jobs=1,\n",
    "    interactions_params={'resources': ['CellPhoneDB','CellChatDB','CellCellInteractions']}\n",
    "    )\n",
    "    \n",
    "    df=pd.DataFrame(res[\"pvalues\"])\n",
    "    \n",
    "    res[\"pvalues\"].to_csv(file_path+'/Jun_8_2023_CC-interaction/%s_recepter_ligand_interaction_pval.csv'%AML)\n",
    "    \n",
    "    mean_df=pd.DataFrame(res[\"means\"])\n",
    "    \n",
    "    res[\"means\"].to_csv(file_path+'/Jun_8_2023_CC-interaction/%s_recepter_ligand_interaction_mean.csv'%AML)\n",
    "    \n",
    "    pval_df=df\n",
    "    pval_df.columns = ['|'.join(col) for col in pval_df.columns.values]\n",
    "    pval_df = pval_df.reset_index() \n",
    "    melt_pval= pd.melt(pval_df, id_vars=['source','target'],value_name='pval')\n",
    "    melt_pval=melt_pval.loc[melt_pval.pval.notnull()]\n",
    "    melt_pval[['Sender','Receptor']] = melt_pval['variable'].str.split('|',expand=True)\n",
    "    melt_pval['Sample']=AML\n",
    "    melt_pval['Sender_source'] = melt_pval['Sender'] +\"|\"+ melt_pval['source']\n",
    "    melt_pval['Receptor_target'] = melt_pval['Receptor'] + \"|\"+ melt_pval['target']\n",
    "    melt_df=melt_pval[['Sample','Sender_source','Receptor_target','pval']]\n",
    "    melt_df.to_csv(file_path+'/Jun_8_2023_CC-interaction/%s_PAC_chord_figure_input_before_filter_pval.csv'%AML)\n",
    "    \n",
    "    mean_df.columns = ['|'.join(col) for col in mean_df.columns.values]\n",
    "    mean_df = mean_df.reset_index() \n",
    "    melt_mean= pd.melt(mean_df, id_vars=['source','target'],value_name='mean')\n",
    "    melt_mean[\"mean\"] = pd.to_numeric(melt_mean['mean'])\n",
    "    melt_mean=melt_mean[melt_mean['mean']>0]\n",
    "    melt_mean[['Sender','Receptor']] = melt_mean['variable'].str.split('|',expand=True)\n",
    "    melt_mean['Sample']=AML\n",
    "    melt_mean['Sender_source'] = melt_mean['Sender'] +\"|\"+ melt_mean['source']\n",
    "    melt_mean['Receptor_target'] = melt_mean['Receptor'] + \"|\"+ melt_mean['target']\n",
    "    melt_mean=melt_mean[['Sample','Sender_source','Receptor_target','mean']]\n",
    "    melt_mean.to_csv(file_path+'/Jun_8_2023_CC-interaction/%s_PAC_chord_figure_input_before_filter_mean.csv'%AML)\n",
    "    "
   ]
  },
  {
   "cell_type": "code",
   "execution_count": null,
   "metadata": {},
   "outputs": [],
   "source": [
    "mean_files = [file for file in all_files if file.startswith('AML') & \\\n",
    "              file.endswith('filter_mean_lastestDataBase.csv')]"
   ]
  },
  {
   "cell_type": "code",
   "execution_count": null,
   "metadata": {},
   "outputs": [],
   "source": [
    "mean_files"
   ]
  },
  {
   "cell_type": "code",
   "execution_count": null,
   "metadata": {},
   "outputs": [],
   "source": [
    "pval_files = [file for file in all_files if file.startswith('AML') & \\\n",
    "              file.endswith('filter_pval_lastestDataBase.csv')]"
   ]
  },
  {
   "cell_type": "code",
   "execution_count": null,
   "metadata": {},
   "outputs": [],
   "source": [
    "pval_files"
   ]
  },
  {
   "cell_type": "code",
   "execution_count": null,
   "metadata": {},
   "outputs": [],
   "source": [
    "li = []\n",
    "\n",
    "for filename in mean_files:\n",
    "    df = pd.read_csv(file_path+filename,index_col=0)\n",
    "    li.append(df)\n"
   ]
  },
  {
   "cell_type": "code",
   "execution_count": null,
   "metadata": {},
   "outputs": [],
   "source": [
    "df"
   ]
  },
  {
   "cell_type": "code",
   "execution_count": null,
   "metadata": {},
   "outputs": [],
   "source": [
    "frame = pd.concat(li, axis=0,ignore_index=True)\n",
    "frame"
   ]
  },
  {
   "cell_type": "code",
   "execution_count": null,
   "metadata": {},
   "outputs": [],
   "source": [
    "frame.to_csv(file_path+'AML_PAC_chord_figure_input_before_filter_mean.csv') "
   ]
  },
  {
   "cell_type": "code",
   "execution_count": null,
   "metadata": {},
   "outputs": [],
   "source": [
    "pval = []\n",
    "\n",
    "for filename in pval_files:\n",
    "    df = pd.read_csv(file_path+filename,index_col=0)\n",
    "    pval.append(df)"
   ]
  },
  {
   "cell_type": "code",
   "execution_count": null,
   "metadata": {},
   "outputs": [],
   "source": [
    "pval_frame = pd.concat(pval, axis=0, ignore_index=True)\n",
    "pval_frame"
   ]
  },
  {
   "cell_type": "code",
   "execution_count": null,
   "metadata": {},
   "outputs": [],
   "source": [
    "pval_frame.to_csv(file_path+'AML_PAC_chord_figure_input_before_filter_pval_lastestDataBase.csv') "
   ]
  },
  {
   "cell_type": "code",
   "execution_count": null,
   "metadata": {},
   "outputs": [],
   "source": [
    "for HBM in HBM_sample:\n",
    "    print(HBM)\n",
    "    HBM_Sq =adata[adata.obs['SampleID'].isin([HBM]),:]\n",
    "    res = sq.gr.ligrec(\n",
    "    HBM_Sq,\n",
    "    n_perms=2000,\n",
    "    cluster_key=\"PAC_anno\",\n",
    "    complex_policy='min',\n",
    "    copy=True,\n",
    "    use_raw=False,\n",
    "    threshold=0.005,\n",
    "    n_jobs=1,\n",
    "    interactions_params={'resources': ['CellPhoneDB','CellChatDB','CellCellInteractions']}\n",
    "    )\n",
    "    \n",
    "    df=pd.DataFrame(res[\"pvalues\"])\n",
    "    \n",
    "    res[\"pvalues\"].to_csv(file_path+'/Jun_8_2023_CC-interaction/%s_recepter_ligand_interaction_pval.csv'%HBM)\n",
    "    \n",
    "    mean_df=pd.DataFrame(res[\"means\"])\n",
    "    \n",
    "    res[\"means\"].to_csv(file_path+'/Jun_8_2023_CC-interaction/%s_recepter_ligand_interaction_mean.csv'%HBM)\n",
    "    \n",
    "    pval_df=df\n",
    "    pval_df.columns = ['|'.join(col) for col in pval_df.columns.values]\n",
    "    pval_df = pval_df.reset_index() \n",
    "    melt_pval= pd.melt(pval_df, id_vars=['source','target'],value_name='pval')\n",
    "    melt_pval=melt_pval.loc[melt_pval.pval.notnull()]\n",
    "    melt_pval[['Sender','Receptor']] = melt_pval['variable'].str.split('|',expand=True)\n",
    "    melt_pval['Sample']=AML\n",
    "    melt_pval['Sender_source'] = melt_pval['Sender'] +\"|\"+ melt_pval['source']\n",
    "    melt_pval['Receptor_target'] = melt_pval['Receptor'] + \"|\"+ melt_pval['target']\n",
    "    melt_df=melt_pval[['Sample','Sender_source','Receptor_target','pval']]\n",
    "    melt_df.to_csv(file_path+'/Jun_8_2023_CC-interaction/%s_PAC_chord_figure_input_before_filter_pval.csv'%HBM)\n",
    "    \n",
    "    mean_df.columns = ['|'.join(col) for col in mean_df.columns.values]\n",
    "    mean_df = mean_df.reset_index() \n",
    "    melt_mean= pd.melt(mean_df, id_vars=['source','target'],value_name='mean')\n",
    "    melt_mean[\"mean\"] = pd.to_numeric(melt_mean['mean'])\n",
    "    melt_mean=melt_mean[melt_mean['mean']>0]\n",
    "    melt_mean[['Sender','Receptor']] = melt_mean['variable'].str.split('|',expand=True)\n",
    "    melt_mean['Sample']=AML\n",
    "    melt_mean['Sender_source'] = melt_mean['Sender'] +\"|\"+ melt_mean['source']\n",
    "    melt_mean['Receptor_target'] = melt_mean['Receptor'] + \"|\"+ melt_mean['target']\n",
    "    melt_mean=melt_mean[['Sample','Sender_source','Receptor_target','mean']]\n",
    "    melt_mean.to_csv(file_path+'/Jun_8_2023_CC-interaction/%s_PAC_chord_figure_input_before_filter_mean.csv'%HBM)\n",
    "    "
   ]
  },
  {
   "cell_type": "code",
   "execution_count": null,
   "metadata": {},
   "outputs": [],
   "source": [
    "mean_files = [file for file in all_files if file.startswith('0_') & \\\n",
    "              file.endswith('filter_mean_lastestDataBase.csv')]"
   ]
  },
  {
   "cell_type": "code",
   "execution_count": null,
   "metadata": {},
   "outputs": [],
   "source": [
    "pval_files = [file for file in all_files if file.startswith('0_') & \\\n",
    "              file.endswith('filter_pval_lastestDataBase.csv')]"
   ]
  },
  {
   "cell_type": "code",
   "execution_count": null,
   "metadata": {},
   "outputs": [],
   "source": [
    "li = []\n",
    "\n",
    "for filename in mean_files:\n",
    "    df = pd.read_csv(file_path+filename,index_col=0)\n",
    "    li.append(df)\n"
   ]
  },
  {
   "cell_type": "code",
   "execution_count": null,
   "metadata": {},
   "outputs": [],
   "source": [
    "frame = pd.concat(li, axis=0,ignore_index=True)\n",
    "frame"
   ]
  },
  {
   "cell_type": "code",
   "execution_count": null,
   "metadata": {},
   "outputs": [],
   "source": [
    "frame.to_csv(file_path+'Healthy_PAC_chord_figure_input_before_filter_mean_lastestDataBase.csv') "
   ]
  },
  {
   "cell_type": "code",
   "execution_count": null,
   "metadata": {},
   "outputs": [],
   "source": [
    "pval = []\n",
    "\n",
    "for filename in pval_files:\n",
    "    df = pd.read_csv(file_path+filename,index_col=0)\n",
    "    pval.append(df)"
   ]
  },
  {
   "cell_type": "code",
   "execution_count": null,
   "metadata": {},
   "outputs": [],
   "source": [
    "pval_frame = pd.concat(pval, axis=0, ignore_index=True)\n",
    "pval_frame"
   ]
  },
  {
   "cell_type": "code",
   "execution_count": null,
   "metadata": {},
   "outputs": [],
   "source": [
    "pval_frame.to_csv(file_path+'Healthy_PAC_chord_figure_input_before_filter_pval_lastestDataBase.csv') "
   ]
  }
 ],
 "metadata": {
  "kernelspec": {
   "display_name": "Python 3 (ipykernel)",
   "language": "python",
   "name": "python3"
  },
  "language_info": {
   "codemirror_mode": {
    "name": "ipython",
    "version": 3
   },
   "file_extension": ".py",
   "mimetype": "text/x-python",
   "name": "python",
   "nbconvert_exporter": "python",
   "pygments_lexer": "ipython3",
   "version": "3.8.18"
  },
  "toc": {
   "base_numbering": 1,
   "nav_menu": {},
   "number_sections": true,
   "sideBar": true,
   "skip_h1_title": false,
   "title_cell": "Table of Contents",
   "title_sidebar": "Contents",
   "toc_cell": false,
   "toc_position": {
    "height": "585px",
    "left": "500px",
    "top": "110px",
    "width": "228px"
   },
   "toc_section_display": true,
   "toc_window_display": true
  }
 },
 "nbformat": 4,
 "nbformat_minor": 4
}
